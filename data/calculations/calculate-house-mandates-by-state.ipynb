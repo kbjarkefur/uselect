{
 "cells": [
  {
   "cell_type": "code",
   "execution_count": null,
   "metadata": {},
   "outputs": [],
   "source": [
    "import random\n",
    "\n",
    "import numpy as np\n",
    "import pandas as pd\n",
    "\n",
    "from State import State\n",
    "from District import District\n",
    "from Election import Election"
   ]
  },
  {
   "cell_type": "code",
   "execution_count": null,
   "metadata": {},
   "outputs": [],
   "source": [
    "#Read the cleaned file\n",
    "house_by_dist = pd.read_csv('../cleaned-data/house-by-state-cleaned.csv')\n",
    "house_by_dist.head()"
   ]
  },
  {
   "cell_type": "code",
   "execution_count": null,
   "metadata": {},
   "outputs": [],
   "source": [
    "#Get all states\n",
    "all_states = house_by_dist.STATE_ABB.unique()\n",
    "\n",
    "#Overwrite with one random stata or set specific state, for testing\n",
    "#all_states = [random.choice(all_states)]\n",
    "#all_states = [\"OR\"]\n",
    "\n",
    "#These states will be looped over\n",
    "print(all_states)"
   ]
  },
  {
   "cell_type": "code",
   "execution_count": null,
   "metadata": {},
   "outputs": [],
   "source": [
    "#Loop over States and write reports\n",
    "for state in all_states:\n",
    "    state_data = house_by_dist[house_by_dist.STATE_ABB == state]\n",
    "    state = State(state,state_data)\n",
    "    \n",
    "    state.write_report(test=False)"
   ]
  }
 ],
 "metadata": {
  "kernelspec": {
   "display_name": "Python 3",
   "language": "python",
   "name": "python3"
  },
  "language_info": {
   "codemirror_mode": {
    "name": "ipython",
    "version": 3
   },
   "file_extension": ".py",
   "mimetype": "text/x-python",
   "name": "python",
   "nbconvert_exporter": "python",
   "pygments_lexer": "ipython3",
   "version": "3.6.4"
  }
 },
 "nbformat": 4,
 "nbformat_minor": 2
}
