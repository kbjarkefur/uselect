{
 "cells": [
  {
   "cell_type": "code",
   "execution_count": null,
   "metadata": {},
   "outputs": [],
   "source": [
    "import random\n",
    "\n",
    "import numpy as np\n",
    "import pandas as pd\n",
    "\n",
    "from State import State\n",
    "from District import District\n",
    "from Election import Election"
   ]
  },
  {
   "cell_type": "markdown",
   "metadata": {},
   "source": [
    "## Load clean data"
   ]
  },
  {
   "cell_type": "code",
   "execution_count": null,
   "metadata": {
    "scrolled": true
   },
   "outputs": [],
   "source": [
    "house_by_dist = pd.read_csv('../cleaned-data/house-elections-cleaned.csv')\n",
    "\n",
    "#Do not remember why these states are droped\n",
    "house_by_dist = house_by_dist[house_by_dist.STATE != \"AS\"]\n",
    "house_by_dist = house_by_dist[house_by_dist.STATE != \"LA\"]\n",
    "house_by_dist = house_by_dist[house_by_dist.STATE != \"WA\"]\n",
    "\n",
    "house_by_dist.head()"
   ]
  },
  {
   "cell_type": "code",
   "execution_count": null,
   "metadata": {},
   "outputs": [],
   "source": [
    "#Data fram with rows with vparty affiliation\n",
    "valid_parties = house_by_dist[house_by_dist.PARTY_VALID != \"no-party\"]"
   ]
  },
  {
   "cell_type": "markdown",
   "metadata": {},
   "source": [
    "## Create the objects"
   ]
  },
  {
   "cell_type": "code",
   "execution_count": null,
   "metadata": {},
   "outputs": [],
   "source": [
    "#Get all states\n",
    "all_states = valid_parties.STATE.unique()\n",
    "\n",
    "#Overwrite with one random stata\n",
    "all_states = [random.choice(all_states)]\n",
    "#all_states = [\"OR\"]\n",
    "\n",
    "for state in all_states:\n",
    "    state_data = valid_parties[valid_parties.STATE == state]\n",
    "    test_state = State(state,state_data)\n",
    "# print(state)\n",
    "state_data.head(8)"
   ]
  },
  {
   "cell_type": "code",
   "execution_count": null,
   "metadata": {},
   "outputs": [],
   "source": [
    "test_state.write_report()"
   ]
  }
 ],
 "metadata": {
  "kernelspec": {
   "display_name": "Python 3",
   "language": "python",
   "name": "python3"
  },
  "language_info": {
   "codemirror_mode": {
    "name": "ipython",
    "version": 3
   },
   "file_extension": ".py",
   "mimetype": "text/x-python",
   "name": "python",
   "nbconvert_exporter": "python",
   "pygments_lexer": "ipython3",
   "version": "3.6.4"
  }
 },
 "nbformat": 4,
 "nbformat_minor": 2
}
