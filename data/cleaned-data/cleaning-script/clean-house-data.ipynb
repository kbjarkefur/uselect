{
 "cells": [
  {
   "cell_type": "markdown",
   "metadata": {},
   "source": [
    "# Preparing National Election Data for the House of Representatives\n",
    "\n",
    "The official source keeps all data - including primary elections - in a single file. The purpose of this notebook is to clean the file so that only the general election is represented and all rows that do not include general election results are removed. Such rows could be state headers, district summaries and candidates that were eliminated in the primaries."
   ]
  },
  {
   "cell_type": "code",
   "execution_count": 1,
   "metadata": {},
   "outputs": [],
   "source": [
    "# Import libraries used in this notebook\n",
    "import requests, os\n",
    "\n",
    "import numpy as np\n",
    "import pandas as pd\n",
    "from pandas import ExcelWriter\n",
    "from pandas import ExcelFile\n",
    "\n",
    "import xlrd\n"
   ]
  },
  {
   "cell_type": "markdown",
   "metadata": {},
   "source": [
    "## Download the file from FEC and import it to a panda data frame\n",
    "\n",
    "The data used in this notebook can be downloaded here: https://transition.fec.gov/general/FederalElections2016.shtml"
   ]
  },
  {
   "cell_type": "code",
   "execution_count": 2,
   "metadata": {},
   "outputs": [],
   "source": [
    "if not os.path.isfile('../raw-data/federal-election-results/federalelections2016.xlsx'):\n",
    "\n",
    "    #Get the file from the Federal Election Committe's website\n",
    "    r = requests.get('https://transition.fec.gov/pubrec/fe2016/federalelections2016.xlsx')\n",
    "\n",
    "    #Save it to disk\n",
    "    with open(\"../raw-data/federal-election-results/federalelections2016.xlsx\",'wb') as f: \n",
    "        f.write(r.content) "
   ]
  },
  {
   "cell_type": "markdown",
   "metadata": {},
   "source": [
    "After downloading it, import it as a datafram and display the first five rows"
   ]
  },
  {
   "cell_type": "code",
   "execution_count": 3,
   "metadata": {
    "scrolled": true
   },
   "outputs": [
    {
     "data": {
      "text/html": [
       "<div>\n",
       "<style scoped>\n",
       "    .dataframe tbody tr th:only-of-type {\n",
       "        vertical-align: middle;\n",
       "    }\n",
       "\n",
       "    .dataframe tbody tr th {\n",
       "        vertical-align: top;\n",
       "    }\n",
       "\n",
       "    .dataframe thead th {\n",
       "        text-align: right;\n",
       "    }\n",
       "</style>\n",
       "<table border=\"1\" class=\"dataframe\">\n",
       "  <thead>\n",
       "    <tr style=\"text-align: right;\">\n",
       "      <th></th>\n",
       "      <th>1</th>\n",
       "      <th>STATE ABBREVIATION</th>\n",
       "      <th>STATE</th>\n",
       "      <th>D</th>\n",
       "      <th>FEC ID#</th>\n",
       "      <th>(I)</th>\n",
       "      <th>CANDIDATE NAME (First)</th>\n",
       "      <th>CANDIDATE NAME (Last)</th>\n",
       "      <th>CANDIDATE NAME</th>\n",
       "      <th>TOTAL VOTES</th>\n",
       "      <th>...</th>\n",
       "      <th>RUNOFF VOTES</th>\n",
       "      <th>RUNOFF %</th>\n",
       "      <th>GENERAL VOTES</th>\n",
       "      <th>GENERAL %</th>\n",
       "      <th>GE RUNOFF ELECTION VOTES (LA)</th>\n",
       "      <th>GE RUNOFF ELECTION % (LA)</th>\n",
       "      <th>COMBINED GE PARTY TOTALS (CT, NY, SC)</th>\n",
       "      <th>COMBINED % (CT, NY, SC)</th>\n",
       "      <th>GE WINNER INDICATOR</th>\n",
       "      <th>FOOTNOTES</th>\n",
       "    </tr>\n",
       "  </thead>\n",
       "  <tbody>\n",
       "    <tr>\n",
       "      <th>0</th>\n",
       "      <td>2</td>\n",
       "      <td>NaN</td>\n",
       "      <td>NaN</td>\n",
       "      <td>NaN</td>\n",
       "      <td>NaN</td>\n",
       "      <td>NaN</td>\n",
       "      <td>NaN</td>\n",
       "      <td>NaN</td>\n",
       "      <td>NaN</td>\n",
       "      <td>NaN</td>\n",
       "      <td>...</td>\n",
       "      <td>NaN</td>\n",
       "      <td>NaN</td>\n",
       "      <td>NaN</td>\n",
       "      <td>NaN</td>\n",
       "      <td>NaN</td>\n",
       "      <td>NaN</td>\n",
       "      <td>NaN</td>\n",
       "      <td>NaN</td>\n",
       "      <td>NaN</td>\n",
       "      <td>NaN</td>\n",
       "    </tr>\n",
       "    <tr>\n",
       "      <th>1</th>\n",
       "      <td>3</td>\n",
       "      <td>AL</td>\n",
       "      <td>Alabama</td>\n",
       "      <td>NaN</td>\n",
       "      <td>NaN</td>\n",
       "      <td>NaN</td>\n",
       "      <td>NaN</td>\n",
       "      <td>NaN</td>\n",
       "      <td>NaN</td>\n",
       "      <td>NaN</td>\n",
       "      <td>...</td>\n",
       "      <td>NaN</td>\n",
       "      <td>NaN</td>\n",
       "      <td>NaN</td>\n",
       "      <td>NaN</td>\n",
       "      <td>NaN</td>\n",
       "      <td>NaN</td>\n",
       "      <td>NaN</td>\n",
       "      <td>NaN</td>\n",
       "      <td>NaN</td>\n",
       "      <td>NaN</td>\n",
       "    </tr>\n",
       "    <tr>\n",
       "      <th>2</th>\n",
       "      <td>4</td>\n",
       "      <td>AL</td>\n",
       "      <td>Alabama</td>\n",
       "      <td>01</td>\n",
       "      <td>H4AL01123</td>\n",
       "      <td>(I)</td>\n",
       "      <td>Bradley</td>\n",
       "      <td>Byrne</td>\n",
       "      <td>Byrne, Bradley</td>\n",
       "      <td>NaN</td>\n",
       "      <td>...</td>\n",
       "      <td>NaN</td>\n",
       "      <td>NaN</td>\n",
       "      <td>208083</td>\n",
       "      <td>0.963825</td>\n",
       "      <td>NaN</td>\n",
       "      <td>NaN</td>\n",
       "      <td>NaN</td>\n",
       "      <td>NaN</td>\n",
       "      <td>W</td>\n",
       "      <td>NaN</td>\n",
       "    </tr>\n",
       "    <tr>\n",
       "      <th>3</th>\n",
       "      <td>5</td>\n",
       "      <td>AL</td>\n",
       "      <td>Alabama</td>\n",
       "      <td>01</td>\n",
       "      <td>H6AL01060</td>\n",
       "      <td>NaN</td>\n",
       "      <td>Dean</td>\n",
       "      <td>Young</td>\n",
       "      <td>Young, Dean</td>\n",
       "      <td>NaN</td>\n",
       "      <td>...</td>\n",
       "      <td>NaN</td>\n",
       "      <td>NaN</td>\n",
       "      <td>NaN</td>\n",
       "      <td>NaN</td>\n",
       "      <td>NaN</td>\n",
       "      <td>NaN</td>\n",
       "      <td>NaN</td>\n",
       "      <td>NaN</td>\n",
       "      <td>NaN</td>\n",
       "      <td>NaN</td>\n",
       "    </tr>\n",
       "    <tr>\n",
       "      <th>4</th>\n",
       "      <td>6</td>\n",
       "      <td>AL</td>\n",
       "      <td>Alabama</td>\n",
       "      <td>01</td>\n",
       "      <td>NaN</td>\n",
       "      <td>NaN</td>\n",
       "      <td>NaN</td>\n",
       "      <td>NaN</td>\n",
       "      <td>NaN</td>\n",
       "      <td>Party Votes:</td>\n",
       "      <td>...</td>\n",
       "      <td>NaN</td>\n",
       "      <td>NaN</td>\n",
       "      <td>NaN</td>\n",
       "      <td>NaN</td>\n",
       "      <td>NaN</td>\n",
       "      <td>NaN</td>\n",
       "      <td>NaN</td>\n",
       "      <td>NaN</td>\n",
       "      <td>NaN</td>\n",
       "      <td>NaN</td>\n",
       "    </tr>\n",
       "  </tbody>\n",
       "</table>\n",
       "<p>5 rows × 23 columns</p>\n",
       "</div>"
      ],
      "text/plain": [
       "   1 STATE ABBREVIATION    STATE    D    FEC ID#  (I) CANDIDATE NAME (First)  \\\n",
       "0  2                NaN      NaN  NaN        NaN  NaN                    NaN   \n",
       "1  3                 AL  Alabama  NaN        NaN  NaN                    NaN   \n",
       "2  4                 AL  Alabama   01  H4AL01123  (I)                Bradley   \n",
       "3  5                 AL  Alabama   01  H6AL01060  NaN                   Dean   \n",
       "4  6                 AL  Alabama   01        NaN  NaN                    NaN   \n",
       "\n",
       "  CANDIDATE NAME (Last)  CANDIDATE NAME   TOTAL VOTES    ...     RUNOFF VOTES  \\\n",
       "0                   NaN             NaN           NaN    ...              NaN   \n",
       "1                   NaN             NaN           NaN    ...              NaN   \n",
       "2                 Byrne  Byrne, Bradley           NaN    ...              NaN   \n",
       "3                 Young     Young, Dean           NaN    ...              NaN   \n",
       "4                   NaN             NaN  Party Votes:    ...              NaN   \n",
       "\n",
       "  RUNOFF %  GENERAL VOTES   GENERAL %  GE RUNOFF ELECTION VOTES (LA)  \\\n",
       "0      NaN             NaN        NaN                            NaN   \n",
       "1      NaN             NaN        NaN                            NaN   \n",
       "2      NaN          208083   0.963825                            NaN   \n",
       "3      NaN             NaN        NaN                            NaN   \n",
       "4      NaN             NaN        NaN                            NaN   \n",
       "\n",
       "  GE RUNOFF ELECTION % (LA)  COMBINED GE PARTY TOTALS (CT, NY, SC)  \\\n",
       "0                       NaN                                    NaN   \n",
       "1                       NaN                                    NaN   \n",
       "2                       NaN                                    NaN   \n",
       "3                       NaN                                    NaN   \n",
       "4                       NaN                                    NaN   \n",
       "\n",
       "   COMBINED % (CT, NY, SC)  GE WINNER INDICATOR  FOOTNOTES  \n",
       "0                      NaN                  NaN        NaN  \n",
       "1                      NaN                  NaN        NaN  \n",
       "2                      NaN                    W        NaN  \n",
       "3                      NaN                  NaN        NaN  \n",
       "4                      NaN                  NaN        NaN  \n",
       "\n",
       "[5 rows x 23 columns]"
      ]
     },
     "execution_count": 3,
     "metadata": {},
     "output_type": "execute_result"
    }
   ],
   "source": [
    "#Load the sheet with \n",
    "house_by_dist = pd.read_excel(\"../raw-data/federal-election-results/federalelections2016.xlsx\", sheet_name='2016 US House Results by State')\n",
    "house_by_dist.head()"
   ]
  },
  {
   "cell_type": "markdown",
   "metadata": {},
   "source": [
    "Rename column names with spaces or other characters now suitable for code"
   ]
  },
  {
   "cell_type": "code",
   "execution_count": 4,
   "metadata": {
    "scrolled": true
   },
   "outputs": [],
   "source": [
    "house_by_dist.rename(columns={1:'row_excel','TOTAL VOTES':'TOTAL_VOTES','GENERAL VOTES ':'GENERAL_VOTES',\n",
    "                              'FEC ID#':'FEC_ID','STATE ABBREVIATION':'STATE_ABBREVIATION'}, inplace=True)"
   ]
  },
  {
   "cell_type": "markdown",
   "metadata": {},
   "source": [
    "### Fix errors in the code and other corrections\n",
    "\n",
    "Four candidates are listed in running in the incorrect district. That this is indeed an error in the Excel file has been confirmed in the folowing way. The PDF report published by FEC indicates a different district for these four candidates, and it is only after making these four corrections that the total number or votes per district matches FEC's own calculations."
   ]
  },
  {
   "cell_type": "code",
   "execution_count": 5,
   "metadata": {},
   "outputs": [],
   "source": [
    "#Typo in District number for these two candidates. Double checked with \n",
    "# https://transition.fec.gov/pubrec/fe2016/federalelections2016.pdf page 165\n",
    "house_by_dist.loc[(house_by_dist.FEC_ID == \"H6SC05137\") , 'D'] = \"05\"\n",
    "house_by_dist.loc[(house_by_dist.FEC_ID == \"H6SC05145\") , 'D'] = \"05\"\n",
    "\n",
    "#Typo in District number for these two candidates. Double checked with \n",
    "# https://transition.fec.gov/pubrec/fe2016/federalelections2016.pdf page 175\n",
    "house_by_dist.loc[(house_by_dist.FEC_ID == \"H8UT03089\") , 'D'] = \"03\"\n",
    "house_by_dist.loc[(house_by_dist.FEC_ID == \"H6UT03166\") , 'D'] = \"03\""
   ]
  },
  {
   "cell_type": "markdown",
   "metadata": {},
   "source": [
    "The other corrections are not errors, but something needs to be done in the three districts where unexpired terms lead to reporting multiple elections per district. The current way of correcting might not be the best way to do it."
   ]
  },
  {
   "cell_type": "code",
   "execution_count": 6,
   "metadata": {},
   "outputs": [],
   "source": [
    "#Look into what is best for unexpired distircts\n",
    "# 1 distrinct in HI and one in KY\n",
    "house_by_dist.loc[(house_by_dist.D == \"01 - FULL TERM\") , 'D'] = \"01\"\n",
    "house_by_dist = house_by_dist[house_by_dist.D != \"01 - UNEXPIRED TERM\"] #Remove unexpired terms\n",
    "house_by_dist = house_by_dist[house_by_dist.D != \"1 - UNEXPIRED TERM\"]  #This is just a typo of the above\n",
    "\n",
    "# 1 distrinct in PA\n",
    "house_by_dist.loc[(house_by_dist.D == \"02 - FULL TERM\") , 'D'] = \"02\"   \n",
    "house_by_dist = house_by_dist[house_by_dist.D != \"02 - UNEXPIRED TERM\"]  #Remove unexpired term\n",
    "\n",
    "#Line used to check result\n",
    "#house_by_dist.loc[house_by_dist.row_excel > 3736].head(100)"
   ]
  },
  {
   "cell_type": "markdown",
   "metadata": {},
   "source": [
    "Create a district ID by combining state abbreviation with district number so the district ID is nationally unique."
   ]
  },
  {
   "cell_type": "code",
   "execution_count": 7,
   "metadata": {},
   "outputs": [],
   "source": [
    "# Create nationally unique ID\n",
    "house_by_dist[\"D_ID\"] = house_by_dist.STATE_ABBREVIATION + \"_\" + house_by_dist.D.map(str)\n",
    "\n",
    "#Remove excessive spaces before and after ID that makes the same ID differnt when \n",
    "# read by the code, for example \"FL_24\" and \"FL_24 \"\n",
    "house_by_dist.D_ID = house_by_dist.D_ID.str.strip()"
   ]
  },
  {
   "cell_type": "code",
   "execution_count": 8,
   "metadata": {
    "scrolled": true
   },
   "outputs": [
    {
     "data": {
      "text/html": [
       "<div>\n",
       "<style scoped>\n",
       "    .dataframe tbody tr th:only-of-type {\n",
       "        vertical-align: middle;\n",
       "    }\n",
       "\n",
       "    .dataframe tbody tr th {\n",
       "        vertical-align: top;\n",
       "    }\n",
       "\n",
       "    .dataframe thead th {\n",
       "        text-align: right;\n",
       "    }\n",
       "</style>\n",
       "<table border=\"1\" class=\"dataframe\">\n",
       "  <thead>\n",
       "    <tr style=\"text-align: right;\">\n",
       "      <th></th>\n",
       "      <th>row_excel</th>\n",
       "      <th>STATE_ABBREVIATION</th>\n",
       "      <th>D_ID</th>\n",
       "      <th>PARTY</th>\n",
       "      <th>TOTAL_VOTES</th>\n",
       "      <th>GENERAL_VOTES</th>\n",
       "      <th>D</th>\n",
       "    </tr>\n",
       "  </thead>\n",
       "  <tbody>\n",
       "    <tr>\n",
       "      <th>0</th>\n",
       "      <td>2</td>\n",
       "      <td>NaN</td>\n",
       "      <td>NaN</td>\n",
       "      <td>NaN</td>\n",
       "      <td>NaN</td>\n",
       "      <td>NaN</td>\n",
       "      <td>NaN</td>\n",
       "    </tr>\n",
       "    <tr>\n",
       "      <th>1</th>\n",
       "      <td>3</td>\n",
       "      <td>AL</td>\n",
       "      <td>AL_nan</td>\n",
       "      <td>NaN</td>\n",
       "      <td>NaN</td>\n",
       "      <td>NaN</td>\n",
       "      <td>NaN</td>\n",
       "    </tr>\n",
       "    <tr>\n",
       "      <th>2</th>\n",
       "      <td>4</td>\n",
       "      <td>AL</td>\n",
       "      <td>AL_01</td>\n",
       "      <td>R</td>\n",
       "      <td>NaN</td>\n",
       "      <td>208083</td>\n",
       "      <td>01</td>\n",
       "    </tr>\n",
       "    <tr>\n",
       "      <th>3</th>\n",
       "      <td>5</td>\n",
       "      <td>AL</td>\n",
       "      <td>AL_01</td>\n",
       "      <td>R</td>\n",
       "      <td>NaN</td>\n",
       "      <td>NaN</td>\n",
       "      <td>01</td>\n",
       "    </tr>\n",
       "    <tr>\n",
       "      <th>4</th>\n",
       "      <td>6</td>\n",
       "      <td>AL</td>\n",
       "      <td>AL_01</td>\n",
       "      <td>R</td>\n",
       "      <td>Party Votes:</td>\n",
       "      <td>NaN</td>\n",
       "      <td>01</td>\n",
       "    </tr>\n",
       "  </tbody>\n",
       "</table>\n",
       "</div>"
      ],
      "text/plain": [
       "   row_excel STATE_ABBREVIATION    D_ID PARTY   TOTAL_VOTES GENERAL_VOTES    D\n",
       "0          2                NaN     NaN   NaN           NaN           NaN  NaN\n",
       "1          3                 AL  AL_nan   NaN           NaN           NaN  NaN\n",
       "2          4                 AL   AL_01     R           NaN        208083   01\n",
       "3          5                 AL   AL_01     R           NaN           NaN   01\n",
       "4          6                 AL   AL_01     R  Party Votes:           NaN   01"
      ]
     },
     "execution_count": 8,
     "metadata": {},
     "output_type": "execute_result"
    }
   ],
   "source": [
    "#Keep only the columns used in this excercise\n",
    "house_by_dist = house_by_dist[['row_excel',\"STATE_ABBREVIATION\",'D_ID','PARTY','TOTAL_VOTES','GENERAL_VOTES',\"D\"]]\n",
    "house_by_dist.head()"
   ]
  },
  {
   "cell_type": "markdown",
   "metadata": {},
   "source": [
    "At this point the data frame `house_by_dist` now has column names easy to work with, errors has been corrected, a nationally unique district ID has been created and columns that are not relevant for this excercise has been dropped.\n",
    "\n",
    "## Preparing the data set to only have general election data\n",
    "\n",
    "The Excel file has many rows that have other data - for example primary results - but for this exercise we are only interested in general election data.\n",
    "\n",
    "### Rows without State abbreviation\n",
    "\n",
    "Rows with valid general election data all have state abbreviations. Rows that do not have state abbrevaitons are mostly empty rows. See the first five examples below. These rows are removed in this section."
   ]
  },
  {
   "cell_type": "code",
   "execution_count": 9,
   "metadata": {},
   "outputs": [
    {
     "name": "stdout",
     "output_type": "stream",
     "text": [
      "[nan 'AL' 'AK' 'AS' 'AZ' 'AR' 'CA' 'CO' 'CT' 'DE' 'DC' 'FL' 'GA' 'GU' 'HI'\n",
      " 'ID' 'IL' 'IN' 'IA' 'KS' 'KY' 'LA' 'ME' 'MD' 'MA' 'MI' 'MN' 'MS' 'MO'\n",
      " 'MT' 'NE' 'NV' 'NH' 'NJ' 'NM' 'NY' 'NC' 'ND' 'MP' 'OH' 'OK' 'OR' 'PA'\n",
      " 'PR' 'RI' 'SC' 'SD' 'TN' 'TX' 'UT' 'VT' 'VA' 'VI' 'WA' 'WV' 'WI' 'WY']\n"
     ]
    }
   ],
   "source": [
    "print(house_by_dist.STATE_ABBREVIATION.unique())"
   ]
  },
  {
   "cell_type": "code",
   "execution_count": 10,
   "metadata": {},
   "outputs": [
    {
     "data": {
      "text/html": [
       "<div>\n",
       "<style scoped>\n",
       "    .dataframe tbody tr th:only-of-type {\n",
       "        vertical-align: middle;\n",
       "    }\n",
       "\n",
       "    .dataframe tbody tr th {\n",
       "        vertical-align: top;\n",
       "    }\n",
       "\n",
       "    .dataframe thead th {\n",
       "        text-align: right;\n",
       "    }\n",
       "</style>\n",
       "<table border=\"1\" class=\"dataframe\">\n",
       "  <thead>\n",
       "    <tr style=\"text-align: right;\">\n",
       "      <th></th>\n",
       "      <th>row_excel</th>\n",
       "      <th>STATE_ABBREVIATION</th>\n",
       "      <th>D_ID</th>\n",
       "      <th>PARTY</th>\n",
       "      <th>TOTAL_VOTES</th>\n",
       "      <th>GENERAL_VOTES</th>\n",
       "      <th>D</th>\n",
       "    </tr>\n",
       "  </thead>\n",
       "  <tbody>\n",
       "    <tr>\n",
       "      <th>0</th>\n",
       "      <td>2</td>\n",
       "      <td>NaN</td>\n",
       "      <td>NaN</td>\n",
       "      <td>NaN</td>\n",
       "      <td>NaN</td>\n",
       "      <td>NaN</td>\n",
       "      <td>NaN</td>\n",
       "    </tr>\n",
       "    <tr>\n",
       "      <th>42</th>\n",
       "      <td>44</td>\n",
       "      <td>NaN</td>\n",
       "      <td>NaN</td>\n",
       "      <td>NaN</td>\n",
       "      <td>NaN</td>\n",
       "      <td>NaN</td>\n",
       "      <td>NaN</td>\n",
       "    </tr>\n",
       "    <tr>\n",
       "      <th>45</th>\n",
       "      <td>47</td>\n",
       "      <td>NaN</td>\n",
       "      <td>NaN</td>\n",
       "      <td>NaN</td>\n",
       "      <td>NaN</td>\n",
       "      <td>NaN</td>\n",
       "      <td>NaN</td>\n",
       "    </tr>\n",
       "    <tr>\n",
       "      <th>64</th>\n",
       "      <td>66</td>\n",
       "      <td>NaN</td>\n",
       "      <td>NaN</td>\n",
       "      <td>NaN</td>\n",
       "      <td>NaN</td>\n",
       "      <td>NaN</td>\n",
       "      <td>NaN</td>\n",
       "    </tr>\n",
       "    <tr>\n",
       "      <th>67</th>\n",
       "      <td>69</td>\n",
       "      <td>NaN</td>\n",
       "      <td>NaN</td>\n",
       "      <td>NaN</td>\n",
       "      <td>NaN</td>\n",
       "      <td>NaN</td>\n",
       "      <td>NaN</td>\n",
       "    </tr>\n",
       "  </tbody>\n",
       "</table>\n",
       "</div>"
      ],
      "text/plain": [
       "    row_excel STATE_ABBREVIATION D_ID PARTY TOTAL_VOTES GENERAL_VOTES    D\n",
       "0           2                NaN  NaN   NaN         NaN           NaN  NaN\n",
       "42         44                NaN  NaN   NaN         NaN           NaN  NaN\n",
       "45         47                NaN  NaN   NaN         NaN           NaN  NaN\n",
       "64         66                NaN  NaN   NaN         NaN           NaN  NaN\n",
       "67         69                NaN  NaN   NaN         NaN           NaN  NaN"
      ]
     },
     "execution_count": 10,
     "metadata": {},
     "output_type": "execute_result"
    }
   ],
   "source": [
    "state_nan = house_by_dist[(house_by_dist.STATE_ABBREVIATION.isnull())]\n",
    "state_nan.head()\n",
    "#state_nan.head(500)"
   ]
  },
  {
   "cell_type": "code",
   "execution_count": 11,
   "metadata": {},
   "outputs": [
    {
     "name": "stdout",
     "output_type": "stream",
     "text": [
      "Shape before dropping missing state abb:  (4109, 7)\n",
      "Shape after dropping missing state abb:  (4047, 7)\n"
     ]
    }
   ],
   "source": [
    "print(\"Shape before dropping missing state abb: \",house_by_dist.shape)\n",
    "house_by_dist = house_by_dist.dropna(subset=['STATE_ABBREVIATION'])\n",
    "print(\"Shape after dropping missing state abb: \",house_by_dist.shape)"
   ]
  },
  {
   "cell_type": "markdown",
   "metadata": {},
   "source": [
    "### Rows without district number\n",
    "\n",
    "Rows with valid general election data all have district numbers. Rows that do not have district numbers are mostly rows that summarize state data or introudce a state. See the first 5 examples below. This section removes that section."
   ]
  },
  {
   "cell_type": "code",
   "execution_count": 12,
   "metadata": {},
   "outputs": [
    {
     "name": "stdout",
     "output_type": "stream",
     "text": [
      "[nan '01' '02' '03' '04' '05' '06' '07' 'H' '00' '08' '09' '10' '11' '12'\n",
      " '13' '14' '15' '16' '17' '18' '19' '20' '21' '22' '23' '24' '25' '26'\n",
      " '27' '28' '29' '30' '31' '32' '33' '34' '35' '36' '37' '38' '39' '40'\n",
      " '41' '42' '43' '44' '45' '46' '47' '48' '49' '50' '51' '52' '53' '04 ' 10\n",
      " 11 12 13 14 15 16 17 18 19 20 21 22 23 24 25 26 27]\n"
     ]
    }
   ],
   "source": [
    "print(house_by_dist.D.unique())"
   ]
  },
  {
   "cell_type": "code",
   "execution_count": 13,
   "metadata": {},
   "outputs": [
    {
     "data": {
      "text/html": [
       "<div>\n",
       "<style scoped>\n",
       "    .dataframe tbody tr th:only-of-type {\n",
       "        vertical-align: middle;\n",
       "    }\n",
       "\n",
       "    .dataframe tbody tr th {\n",
       "        vertical-align: top;\n",
       "    }\n",
       "\n",
       "    .dataframe thead th {\n",
       "        text-align: right;\n",
       "    }\n",
       "</style>\n",
       "<table border=\"1\" class=\"dataframe\">\n",
       "  <thead>\n",
       "    <tr style=\"text-align: right;\">\n",
       "      <th></th>\n",
       "      <th>row_excel</th>\n",
       "      <th>STATE_ABBREVIATION</th>\n",
       "      <th>D_ID</th>\n",
       "      <th>PARTY</th>\n",
       "      <th>TOTAL_VOTES</th>\n",
       "      <th>GENERAL_VOTES</th>\n",
       "      <th>D</th>\n",
       "    </tr>\n",
       "  </thead>\n",
       "  <tbody>\n",
       "    <tr>\n",
       "      <th>1</th>\n",
       "      <td>3</td>\n",
       "      <td>AL</td>\n",
       "      <td>AL_nan</td>\n",
       "      <td>NaN</td>\n",
       "      <td>NaN</td>\n",
       "      <td>NaN</td>\n",
       "      <td>NaN</td>\n",
       "    </tr>\n",
       "    <tr>\n",
       "      <th>7</th>\n",
       "      <td>9</td>\n",
       "      <td>AL</td>\n",
       "      <td>AL_nan</td>\n",
       "      <td>NaN</td>\n",
       "      <td>NaN</td>\n",
       "      <td>NaN</td>\n",
       "      <td>NaN</td>\n",
       "    </tr>\n",
       "    <tr>\n",
       "      <th>15</th>\n",
       "      <td>17</td>\n",
       "      <td>AL</td>\n",
       "      <td>AL_nan</td>\n",
       "      <td>NaN</td>\n",
       "      <td>NaN</td>\n",
       "      <td>NaN</td>\n",
       "      <td>NaN</td>\n",
       "    </tr>\n",
       "    <tr>\n",
       "      <th>22</th>\n",
       "      <td>24</td>\n",
       "      <td>AL</td>\n",
       "      <td>AL_nan</td>\n",
       "      <td>NaN</td>\n",
       "      <td>NaN</td>\n",
       "      <td>NaN</td>\n",
       "      <td>NaN</td>\n",
       "    </tr>\n",
       "    <tr>\n",
       "      <th>28</th>\n",
       "      <td>30</td>\n",
       "      <td>AL</td>\n",
       "      <td>AL_nan</td>\n",
       "      <td>NaN</td>\n",
       "      <td>NaN</td>\n",
       "      <td>NaN</td>\n",
       "      <td>NaN</td>\n",
       "    </tr>\n",
       "  </tbody>\n",
       "</table>\n",
       "</div>"
      ],
      "text/plain": [
       "    row_excel STATE_ABBREVIATION    D_ID PARTY TOTAL_VOTES GENERAL_VOTES    D\n",
       "1           3                 AL  AL_nan   NaN         NaN           NaN  NaN\n",
       "7           9                 AL  AL_nan   NaN         NaN           NaN  NaN\n",
       "15         17                 AL  AL_nan   NaN         NaN           NaN  NaN\n",
       "22         24                 AL  AL_nan   NaN         NaN           NaN  NaN\n",
       "28         30                 AL  AL_nan   NaN         NaN           NaN  NaN"
      ]
     },
     "execution_count": 13,
     "metadata": {},
     "output_type": "execute_result"
    }
   ],
   "source": [
    "D_nan = house_by_dist[(house_by_dist.D.isnull())]\n",
    "D_nan.head()\n",
    "#D_nan.head(500)"
   ]
  },
  {
   "cell_type": "code",
   "execution_count": 14,
   "metadata": {
    "scrolled": true
   },
   "outputs": [
    {
     "name": "stdout",
     "output_type": "stream",
     "text": [
      "Shape before dropping missing district:  (4047, 7)\n",
      "Shape after dropping missing district:  (3949, 7)\n"
     ]
    }
   ],
   "source": [
    "print(\"Shape before dropping missing district: \",house_by_dist.shape)\n",
    "house_by_dist = house_by_dist.dropna(subset=['D'])\n",
    "print(\"Shape after dropping missing district: \",house_by_dist.shape)"
   ]
  },
  {
   "cell_type": "markdown",
   "metadata": {},
   "source": [
    "### Rows with \"H\" as district number\n",
    "\n",
    "Rows with valid general election data all have district numbers. Rows that have _H_ as district number are rows that summarize total number of rows in the state. See the first 5 examples below. This section removes that section."
   ]
  },
  {
   "cell_type": "code",
   "execution_count": 15,
   "metadata": {},
   "outputs": [
    {
     "data": {
      "text/html": [
       "<div>\n",
       "<style scoped>\n",
       "    .dataframe tbody tr th:only-of-type {\n",
       "        vertical-align: middle;\n",
       "    }\n",
       "\n",
       "    .dataframe tbody tr th {\n",
       "        vertical-align: top;\n",
       "    }\n",
       "\n",
       "    .dataframe thead th {\n",
       "        text-align: right;\n",
       "    }\n",
       "</style>\n",
       "<table border=\"1\" class=\"dataframe\">\n",
       "  <thead>\n",
       "    <tr style=\"text-align: right;\">\n",
       "      <th></th>\n",
       "      <th>row_excel</th>\n",
       "      <th>STATE_ABBREVIATION</th>\n",
       "      <th>D_ID</th>\n",
       "      <th>PARTY</th>\n",
       "      <th>TOTAL_VOTES</th>\n",
       "      <th>GENERAL_VOTES</th>\n",
       "      <th>D</th>\n",
       "    </tr>\n",
       "  </thead>\n",
       "  <tbody>\n",
       "    <tr>\n",
       "      <th>43</th>\n",
       "      <td>45</td>\n",
       "      <td>AL</td>\n",
       "      <td>AL_H</td>\n",
       "      <td>NaN</td>\n",
       "      <td>Total State Votes:</td>\n",
       "      <td>1889685</td>\n",
       "      <td>H</td>\n",
       "    </tr>\n",
       "    <tr>\n",
       "      <th>65</th>\n",
       "      <td>67</td>\n",
       "      <td>AK</td>\n",
       "      <td>AK_H</td>\n",
       "      <td>NaN</td>\n",
       "      <td>Total State Votes:</td>\n",
       "      <td>308198</td>\n",
       "      <td>H</td>\n",
       "    </tr>\n",
       "    <tr>\n",
       "      <th>74</th>\n",
       "      <td>76</td>\n",
       "      <td>AS</td>\n",
       "      <td>AS_H</td>\n",
       "      <td>NaN</td>\n",
       "      <td>Total State Votes:</td>\n",
       "      <td>11834</td>\n",
       "      <td>H</td>\n",
       "    </tr>\n",
       "    <tr>\n",
       "      <th>178</th>\n",
       "      <td>180</td>\n",
       "      <td>AZ</td>\n",
       "      <td>AZ_H</td>\n",
       "      <td>NaN</td>\n",
       "      <td>Total State Votes:</td>\n",
       "      <td>2412064</td>\n",
       "      <td>H</td>\n",
       "    </tr>\n",
       "    <tr>\n",
       "      <th>202</th>\n",
       "      <td>204</td>\n",
       "      <td>AR</td>\n",
       "      <td>AR_H</td>\n",
       "      <td>NaN</td>\n",
       "      <td>Total State Votes:</td>\n",
       "      <td>1068577</td>\n",
       "      <td>H</td>\n",
       "    </tr>\n",
       "  </tbody>\n",
       "</table>\n",
       "</div>"
      ],
      "text/plain": [
       "     row_excel STATE_ABBREVIATION  D_ID PARTY         TOTAL_VOTES  \\\n",
       "43          45                 AL  AL_H   NaN  Total State Votes:   \n",
       "65          67                 AK  AK_H   NaN  Total State Votes:   \n",
       "74          76                 AS  AS_H   NaN  Total State Votes:   \n",
       "178        180                 AZ  AZ_H   NaN  Total State Votes:   \n",
       "202        204                 AR  AR_H   NaN  Total State Votes:   \n",
       "\n",
       "    GENERAL_VOTES  D  \n",
       "43        1889685  H  \n",
       "65         308198  H  \n",
       "74          11834  H  \n",
       "178       2412064  H  \n",
       "202       1068577  H  "
      ]
     },
     "execution_count": 15,
     "metadata": {},
     "output_type": "execute_result"
    }
   ],
   "source": [
    "# H is a row with state total votes\n",
    "D_H = house_by_dist[(house_by_dist.D == \"H\")]\n",
    "D_H.head()\n",
    "#D_H.head(500)"
   ]
  },
  {
   "cell_type": "code",
   "execution_count": 16,
   "metadata": {},
   "outputs": [
    {
     "name": "stdout",
     "output_type": "stream",
     "text": [
      "Shape before dropping state wide total voter number row:  (3949, 7)\n",
      "Shape after dropping state wide total voter number row:  (3893, 7)\n"
     ]
    }
   ],
   "source": [
    "print(\"Shape before dropping state wide total voter number row: \",house_by_dist.shape)\n",
    "house_by_dist = house_by_dist[(house_by_dist[\"D\"] != \"H\")]\n",
    "print(\"Shape after dropping state wide total voter number row: \",house_by_dist.shape)"
   ]
  },
  {
   "cell_type": "code",
   "execution_count": 17,
   "metadata": {},
   "outputs": [],
   "source": [
    "# Remove D, use only D_ID which is unique across states form now on\n",
    "house_by_dist = house_by_dist.drop(['D',], axis=1)"
   ]
  },
  {
   "cell_type": "markdown",
   "metadata": {},
   "source": [
    "### Rows summarizing total number of votes in primaries\n",
    "\n",
    "Rows with \"Party Votes:\" in the `TOTAL_VOTES` column are number of votes in the primary per party. See first five examples below. These rows are all removed."
   ]
  },
  {
   "cell_type": "code",
   "execution_count": 18,
   "metadata": {
    "scrolled": true
   },
   "outputs": [
    {
     "data": {
      "text/html": [
       "<div>\n",
       "<style scoped>\n",
       "    .dataframe tbody tr th:only-of-type {\n",
       "        vertical-align: middle;\n",
       "    }\n",
       "\n",
       "    .dataframe tbody tr th {\n",
       "        vertical-align: top;\n",
       "    }\n",
       "\n",
       "    .dataframe thead th {\n",
       "        text-align: right;\n",
       "    }\n",
       "</style>\n",
       "<table border=\"1\" class=\"dataframe\">\n",
       "  <thead>\n",
       "    <tr style=\"text-align: right;\">\n",
       "      <th></th>\n",
       "      <th>row_excel</th>\n",
       "      <th>STATE_ABBREVIATION</th>\n",
       "      <th>D_ID</th>\n",
       "      <th>PARTY</th>\n",
       "      <th>TOTAL_VOTES</th>\n",
       "      <th>GENERAL_VOTES</th>\n",
       "    </tr>\n",
       "  </thead>\n",
       "  <tbody>\n",
       "    <tr>\n",
       "      <th>4</th>\n",
       "      <td>6</td>\n",
       "      <td>AL</td>\n",
       "      <td>AL_01</td>\n",
       "      <td>R</td>\n",
       "      <td>Party Votes:</td>\n",
       "      <td>NaN</td>\n",
       "    </tr>\n",
       "    <tr>\n",
       "      <th>11</th>\n",
       "      <td>13</td>\n",
       "      <td>AL</td>\n",
       "      <td>AL_02</td>\n",
       "      <td>R</td>\n",
       "      <td>Party Votes:</td>\n",
       "      <td>NaN</td>\n",
       "    </tr>\n",
       "    <tr>\n",
       "      <th>18</th>\n",
       "      <td>20</td>\n",
       "      <td>AL</td>\n",
       "      <td>AL_03</td>\n",
       "      <td>R</td>\n",
       "      <td>Party Votes:</td>\n",
       "      <td>NaN</td>\n",
       "    </tr>\n",
       "    <tr>\n",
       "      <th>25</th>\n",
       "      <td>27</td>\n",
       "      <td>AL</td>\n",
       "      <td>AL_04</td>\n",
       "      <td>R</td>\n",
       "      <td>Party Votes:</td>\n",
       "      <td>NaN</td>\n",
       "    </tr>\n",
       "    <tr>\n",
       "      <th>51</th>\n",
       "      <td>53</td>\n",
       "      <td>AK</td>\n",
       "      <td>AK_00</td>\n",
       "      <td>R</td>\n",
       "      <td>Party Votes:</td>\n",
       "      <td>NaN</td>\n",
       "    </tr>\n",
       "  </tbody>\n",
       "</table>\n",
       "</div>"
      ],
      "text/plain": [
       "    row_excel STATE_ABBREVIATION   D_ID PARTY   TOTAL_VOTES GENERAL_VOTES\n",
       "4           6                 AL  AL_01     R  Party Votes:           NaN\n",
       "11         13                 AL  AL_02     R  Party Votes:           NaN\n",
       "18         20                 AL  AL_03     R  Party Votes:           NaN\n",
       "25         27                 AL  AL_04     R  Party Votes:           NaN\n",
       "51         53                 AK  AK_00     R  Party Votes:           NaN"
      ]
     },
     "execution_count": 18,
     "metadata": {},
     "output_type": "execute_result"
    }
   ],
   "source": [
    "# Other aggregate rows. Party aggregates were only applicable in primary elections\n",
    "votes_party_agg = house_by_dist[(house_by_dist.TOTAL_VOTES == \"Party Votes:\")]\n",
    "votes_party_agg.head()\n",
    "#votes_party_agg.head(500)"
   ]
  },
  {
   "cell_type": "code",
   "execution_count": 19,
   "metadata": {},
   "outputs": [
    {
     "name": "stdout",
     "output_type": "stream",
     "text": [
      "Shape before dropping party primary total voter number row:  (3893, 6)\n",
      "Shape after dropping party primary total voter number row:  (3276, 6)\n"
     ]
    }
   ],
   "source": [
    "print(\"Shape before dropping party primary total voter number row: \",house_by_dist.shape)\n",
    "house_by_dist = house_by_dist[(house_by_dist.TOTAL_VOTES != \"Party Votes:\")]\n",
    "print(\"Shape after dropping party primary total voter number row: \",house_by_dist.shape)"
   ]
  },
  {
   "cell_type": "markdown",
   "metadata": {},
   "source": [
    "### Rows summarizing total number of votes in primaries\n",
    "\n",
    "Rows with \"District Votes:\" in the `TOTAL_VOTES` column are number of votes in the general election. See first five examples below. We want this data but not in seperate rows, we want this data to merge to each row, so that for each candidate we have the total number of votes in that district in the same row.\n",
    "\n",
    "#### Saving the number of votes per district and then remove them from the main data set\n",
    "This is similar to all the sections above."
   ]
  },
  {
   "cell_type": "code",
   "execution_count": 20,
   "metadata": {},
   "outputs": [
    {
     "data": {
      "text/html": [
       "<div>\n",
       "<style scoped>\n",
       "    .dataframe tbody tr th:only-of-type {\n",
       "        vertical-align: middle;\n",
       "    }\n",
       "\n",
       "    .dataframe tbody tr th {\n",
       "        vertical-align: top;\n",
       "    }\n",
       "\n",
       "    .dataframe thead th {\n",
       "        text-align: right;\n",
       "    }\n",
       "</style>\n",
       "<table border=\"1\" class=\"dataframe\">\n",
       "  <thead>\n",
       "    <tr style=\"text-align: right;\">\n",
       "      <th></th>\n",
       "      <th>row_excel</th>\n",
       "      <th>STATE_ABBREVIATION</th>\n",
       "      <th>D_ID</th>\n",
       "      <th>PARTY</th>\n",
       "      <th>TOTAL_VOTES</th>\n",
       "      <th>GENERAL_VOTES</th>\n",
       "    </tr>\n",
       "  </thead>\n",
       "  <tbody>\n",
       "    <tr>\n",
       "      <th>6</th>\n",
       "      <td>8</td>\n",
       "      <td>AL</td>\n",
       "      <td>AL_01</td>\n",
       "      <td>NaN</td>\n",
       "      <td>District Votes:</td>\n",
       "      <td>215893</td>\n",
       "    </tr>\n",
       "    <tr>\n",
       "      <th>14</th>\n",
       "      <td>16</td>\n",
       "      <td>AL</td>\n",
       "      <td>AL_02</td>\n",
       "      <td>NaN</td>\n",
       "      <td>District Votes:</td>\n",
       "      <td>276584</td>\n",
       "    </tr>\n",
       "    <tr>\n",
       "      <th>21</th>\n",
       "      <td>23</td>\n",
       "      <td>AL</td>\n",
       "      <td>AL_03</td>\n",
       "      <td>NaN</td>\n",
       "      <td>District Votes:</td>\n",
       "      <td>287104</td>\n",
       "    </tr>\n",
       "    <tr>\n",
       "      <th>27</th>\n",
       "      <td>29</td>\n",
       "      <td>AL</td>\n",
       "      <td>AL_04</td>\n",
       "      <td>NaN</td>\n",
       "      <td>District Votes:</td>\n",
       "      <td>239444</td>\n",
       "    </tr>\n",
       "    <tr>\n",
       "      <th>32</th>\n",
       "      <td>34</td>\n",
       "      <td>AL</td>\n",
       "      <td>AL_05</td>\n",
       "      <td>NaN</td>\n",
       "      <td>District Votes:</td>\n",
       "      <td>308326</td>\n",
       "    </tr>\n",
       "  </tbody>\n",
       "</table>\n",
       "</div>"
      ],
      "text/plain": [
       "    row_excel STATE_ABBREVIATION   D_ID PARTY      TOTAL_VOTES GENERAL_VOTES\n",
       "6           8                 AL  AL_01   NaN  District Votes:        215893\n",
       "14         16                 AL  AL_02   NaN  District Votes:        276584\n",
       "21         23                 AL  AL_03   NaN  District Votes:        287104\n",
       "27         29                 AL  AL_04   NaN  District Votes:        239444\n",
       "32         34                 AL  AL_05   NaN  District Votes:        308326"
      ]
     },
     "execution_count": 20,
     "metadata": {},
     "output_type": "execute_result"
    }
   ],
   "source": [
    "# Other aggregate rows. PDistrict votes showing the total number of voters in that district\n",
    "votes_dist_agg = house_by_dist[(house_by_dist.TOTAL_VOTES == \"District Votes:\")]\n",
    "votes_dist_agg.head()\n",
    "#votes_dist_agg.head(500)"
   ]
  },
  {
   "cell_type": "code",
   "execution_count": 21,
   "metadata": {},
   "outputs": [
    {
     "name": "stdout",
     "output_type": "stream",
     "text": [
      "Shape before dropping district total voter number row:  (3276, 6)\n",
      "Shape afer dropping district total voter number row:  (2837, 6)\n"
     ]
    }
   ],
   "source": [
    "print(\"Shape before dropping district total voter number row: \",house_by_dist.shape)\n",
    "house_by_dist = house_by_dist[(house_by_dist.TOTAL_VOTES != \"District Votes:\")]\n",
    "print(\"Shape afer dropping district total voter number row: \",house_by_dist.shape)"
   ]
  },
  {
   "cell_type": "markdown",
   "metadata": {},
   "source": [
    "Remove the total number of votes column."
   ]
  },
  {
   "cell_type": "code",
   "execution_count": 22,
   "metadata": {},
   "outputs": [],
   "source": [
    "# Remove TOTAL_VOTES\n",
    "house_by_dist = house_by_dist.drop(['TOTAL_VOTES'], axis=1)"
   ]
  },
  {
   "cell_type": "markdown",
   "metadata": {},
   "source": [
    "#### Preparing the district total votes row and merge them back to each row\n",
    "Start by deleting all other values that total number of votes, rename to district votes, and then merge many-to-one back to main data set."
   ]
  },
  {
   "cell_type": "code",
   "execution_count": 23,
   "metadata": {},
   "outputs": [
    {
     "data": {
      "text/html": [
       "<div>\n",
       "<style scoped>\n",
       "    .dataframe tbody tr th:only-of-type {\n",
       "        vertical-align: middle;\n",
       "    }\n",
       "\n",
       "    .dataframe tbody tr th {\n",
       "        vertical-align: top;\n",
       "    }\n",
       "\n",
       "    .dataframe thead th {\n",
       "        text-align: right;\n",
       "    }\n",
       "</style>\n",
       "<table border=\"1\" class=\"dataframe\">\n",
       "  <thead>\n",
       "    <tr style=\"text-align: right;\">\n",
       "      <th></th>\n",
       "      <th>D_ID</th>\n",
       "      <th>DISTRICT_VOTES</th>\n",
       "    </tr>\n",
       "  </thead>\n",
       "  <tbody>\n",
       "    <tr>\n",
       "      <th>6</th>\n",
       "      <td>AL_01</td>\n",
       "      <td>215893</td>\n",
       "    </tr>\n",
       "    <tr>\n",
       "      <th>14</th>\n",
       "      <td>AL_02</td>\n",
       "      <td>276584</td>\n",
       "    </tr>\n",
       "    <tr>\n",
       "      <th>21</th>\n",
       "      <td>AL_03</td>\n",
       "      <td>287104</td>\n",
       "    </tr>\n",
       "    <tr>\n",
       "      <th>27</th>\n",
       "      <td>AL_04</td>\n",
       "      <td>239444</td>\n",
       "    </tr>\n",
       "    <tr>\n",
       "      <th>32</th>\n",
       "      <td>AL_05</td>\n",
       "      <td>308326</td>\n",
       "    </tr>\n",
       "  </tbody>\n",
       "</table>\n",
       "</div>"
      ],
      "text/plain": [
       "     D_ID DISTRICT_VOTES\n",
       "6   AL_01         215893\n",
       "14  AL_02         276584\n",
       "21  AL_03         287104\n",
       "27  AL_04         239444\n",
       "32  AL_05         308326"
      ]
     },
     "execution_count": 23,
     "metadata": {},
     "output_type": "execute_result"
    }
   ],
   "source": [
    "votes_dist_agg.rename(columns={'GENERAL_VOTES':'DISTRICT_VOTES'}, inplace=True)\n",
    "votes_dist_agg = votes_dist_agg[['D_ID','DISTRICT_VOTES']]\n",
    "votes_dist_agg.head()"
   ]
  },
  {
   "cell_type": "code",
   "execution_count": 24,
   "metadata": {},
   "outputs": [],
   "source": [
    "house_by_dist = pd.merge(house_by_dist, votes_dist_agg, on='D_ID')"
   ]
  },
  {
   "cell_type": "markdown",
   "metadata": {},
   "source": [
    "## Clean up party abbreviations\n",
    "\n",
    "Start by listing all party abbreviations."
   ]
  },
  {
   "cell_type": "code",
   "execution_count": 25,
   "metadata": {},
   "outputs": [
    {
     "name": "stdout",
     "output_type": "stream",
     "text": [
      "['R' 'W' 'D' 'LIB' 'NAF' 'IND' nan 'W(GRE)/GRE' 'W(LIB)' 'W(GRE)' 'W(D)'\n",
      " 'NOP' 'GRE' 'W(R)/R' 'PAF' 'W(NOP)' 'LIB  ' 'WF' 'IP' 'R/W' 'DCG'\n",
      " 'W(DCG)' 'W(R)' 'LBF' 'NPA' 'R   ' 'R  ' 'W(IP)' 'N' 'CON' 'NNE' 'R\\xa0'\n",
      " 'D\\xa0' 'OTH' 'W(IND)' 'U' 'UST' 'W(D)/D' 'NLP' 'WC' 'W ' 'DFL' 'IDP'\n",
      " 'LMN' 'REF' 'VPA' 'NPY' 'IAP' 'WDB' 'AO' 'MGW' 'RNN' 'PIP' 'FPR' 'EG'\n",
      " 'WUA' 'NSA' 'WOP' 'NBP' 'FI' 'LMP' 'TED' 'WTP' 'CRV' 'WEP' 'R/TRP' 'BLM'\n",
      " 'HBP' 'SID' 'TGP' 'PCC' 'UPJ' 'DNL' 'W(DNL)' 'D/IP' 'R/IP' 'IP/R' 'PRO'\n",
      " 'D/PRO/WF/IP' 'R/CON' 'PG' 'W(D)/W' 'AM' 'UN' 'D/R' 'LBU' 'W(PRO)' 'INP'\n",
      " 'WRN' 'TC' 'W(WG)' 'W(CON)']\n"
     ]
    }
   ],
   "source": [
    "print(house_by_dist.PARTY.unique())"
   ]
  },
  {
   "cell_type": "markdown",
   "metadata": {},
   "source": [
    "### Remove rows with missing party abbreviation\n",
    "\n",
    "Rows with valid general election data all have party abbreviations. Rows that do not have party abbrevaitons are mostly extra rows between candidates in a district. See the first five examples below. These rows are removed in this section."
   ]
  },
  {
   "cell_type": "code",
   "execution_count": 26,
   "metadata": {},
   "outputs": [
    {
     "data": {
      "text/html": [
       "<div>\n",
       "<style scoped>\n",
       "    .dataframe tbody tr th:only-of-type {\n",
       "        vertical-align: middle;\n",
       "    }\n",
       "\n",
       "    .dataframe tbody tr th {\n",
       "        vertical-align: top;\n",
       "    }\n",
       "\n",
       "    .dataframe thead th {\n",
       "        text-align: right;\n",
       "    }\n",
       "</style>\n",
       "<table border=\"1\" class=\"dataframe\">\n",
       "  <thead>\n",
       "    <tr style=\"text-align: right;\">\n",
       "      <th></th>\n",
       "      <th>row_excel</th>\n",
       "      <th>STATE_ABBREVIATION</th>\n",
       "      <th>D_ID</th>\n",
       "      <th>PARTY</th>\n",
       "      <th>GENERAL_VOTES</th>\n",
       "      <th>DISTRICT_VOTES</th>\n",
       "    </tr>\n",
       "  </thead>\n",
       "  <tbody>\n",
       "    <tr>\n",
       "      <th>41</th>\n",
       "      <td>77</td>\n",
       "      <td>AS</td>\n",
       "      <td>AS_00</td>\n",
       "      <td>NaN</td>\n",
       "      <td>NaN</td>\n",
       "      <td>11834</td>\n",
       "    </tr>\n",
       "    <tr>\n",
       "      <th>113</th>\n",
       "      <td>215</td>\n",
       "      <td>CA</td>\n",
       "      <td>CA_01</td>\n",
       "      <td>NaN</td>\n",
       "      <td>NaN</td>\n",
       "      <td>314036</td>\n",
       "    </tr>\n",
       "    <tr>\n",
       "      <th>119</th>\n",
       "      <td>222</td>\n",
       "      <td>CA</td>\n",
       "      <td>CA_02</td>\n",
       "      <td>NaN</td>\n",
       "      <td>NaN</td>\n",
       "      <td>330766</td>\n",
       "    </tr>\n",
       "    <tr>\n",
       "      <th>123</th>\n",
       "      <td>227</td>\n",
       "      <td>CA</td>\n",
       "      <td>CA_03</td>\n",
       "      <td>NaN</td>\n",
       "      <td>NaN</td>\n",
       "      <td>256966</td>\n",
       "    </tr>\n",
       "    <tr>\n",
       "      <th>127</th>\n",
       "      <td>232</td>\n",
       "      <td>CA</td>\n",
       "      <td>CA_04</td>\n",
       "      <td>NaN</td>\n",
       "      <td>NaN</td>\n",
       "      <td>350978</td>\n",
       "    </tr>\n",
       "  </tbody>\n",
       "</table>\n",
       "</div>"
      ],
      "text/plain": [
       "     row_excel STATE_ABBREVIATION   D_ID PARTY GENERAL_VOTES DISTRICT_VOTES\n",
       "41          77                 AS  AS_00   NaN           NaN          11834\n",
       "113        215                 CA  CA_01   NaN           NaN         314036\n",
       "119        222                 CA  CA_02   NaN           NaN         330766\n",
       "123        227                 CA  CA_03   NaN           NaN         256966\n",
       "127        232                 CA  CA_04   NaN           NaN         350978"
      ]
     },
     "execution_count": 26,
     "metadata": {},
     "output_type": "execute_result"
    }
   ],
   "source": [
    "# Empty parties is at this point just empty rows\n",
    "PARTY_nan = house_by_dist[(house_by_dist.PARTY.isnull())]\n",
    "PARTY_nan.head()\n",
    "#PARTY_nan.head(500)"
   ]
  },
  {
   "cell_type": "code",
   "execution_count": 27,
   "metadata": {},
   "outputs": [
    {
     "name": "stdout",
     "output_type": "stream",
     "text": [
      "Shape before dopping missing party:  (2809, 6)\n",
      "Shape after dopping missing party:  (2391, 6)\n"
     ]
    }
   ],
   "source": [
    "print(\"Shape before dopping missing party: \",house_by_dist.shape)\n",
    "house_by_dist = house_by_dist.dropna(subset=['PARTY'])\n",
    "print(\"Shape after dopping missing party: \",house_by_dist.shape)"
   ]
  },
  {
   "cell_type": "markdown",
   "metadata": {},
   "source": [
    "### Cleaning valid party names\n",
    "\n",
    "Different states have different rules regarding write-ins, how they accept votes from independents, and how they accept votes on candidates with no party affilliation.\n",
    "\n",
    "First the `PARTY_VALID` variable is created."
   ]
  },
  {
   "cell_type": "code",
   "execution_count": 28,
   "metadata": {},
   "outputs": [],
   "source": [
    "# Remove excessive spaces , for example turn \" R\" into \"R\", otherwise they are considered different\n",
    "house_by_dist.PARTY = house_by_dist.PARTY.str.strip()\n",
    "\n",
    "#Parties to not consider\n",
    "house_by_dist[\"PARTY_VALID\"] = house_by_dist.PARTY\n"
   ]
  },
  {
   "cell_type": "markdown",
   "metadata": {},
   "source": [
    "All unambigious write-ins are included together with the party they unambigously correspond to. For example, `W(R)` is changed to `R`.\n",
    "\n",
    "Values with encoded spaces (a result of manual entry or copy and paste information in Excel) are also cleaned. For example, `D\\xa0` is changed to `D`. "
   ]
  },
  {
   "cell_type": "code",
   "execution_count": 29,
   "metadata": {},
   "outputs": [
    {
     "name": "stdout",
     "output_type": "stream",
     "text": [
      "['AM', 'AO', 'BLM', 'CON', 'CRV', 'D', 'D/IP', 'D/PRO/WF/IP', 'D/R', 'DCG', 'DFL', 'DNL', 'EG', 'FI', 'FPR', 'GRE', 'HBP', 'IAP', 'IDP', 'IND', 'INP', 'IP', 'IP/R', 'LBF', 'LBU', 'LIB', 'LMN', 'LMP', 'MGW', 'N', 'NAF', 'NBP', 'NLP', 'NNE', 'NOP', 'NPA', 'NPY', 'NSA', 'OTH', 'PAF', 'PCC', 'PG', 'PIP', 'PRO', 'R', 'R/CON', 'R/IP', 'R/TRP', 'R/W', 'REF', 'RNN', 'SID', 'TC', 'TED', 'TGP', 'U', 'UN', 'UPJ', 'UST', 'VPA', 'W', 'W(D)/W', 'W(IND)', 'W(NOP)', 'WC', 'WDB', 'WEP', 'WF', 'WG', 'WOP', 'WRN', 'WTP', 'WUA']\n"
     ]
    }
   ],
   "source": [
    "#Standardizing valid party abbreviations. Either from typo, format, or unambigious write-ins.\n",
    "\n",
    "house_by_dist.loc[house_by_dist.PARTY == \"W(GRE)\"    , 'PARTY_VALID'] = \"GRE\"\n",
    "house_by_dist.loc[house_by_dist.PARTY == \"W(GRE)/GRE\", 'PARTY_VALID'] = \"GRE\"\n",
    "\n",
    "house_by_dist.loc[house_by_dist.PARTY == \"W(LIB)\"    , 'PARTY_VALID'] = \"LIB\"\n",
    "\n",
    "house_by_dist.loc[house_by_dist.PARTY == \"W(D)\"      , 'PARTY_VALID'] = \"D\"\n",
    "house_by_dist.loc[house_by_dist.PARTY == \"W(D)/D\"    , 'PARTY_VALID'] = \"D\"\n",
    "house_by_dist.loc[house_by_dist.PARTY == \"D\\xa0\"     , 'PARTY_VALID'] = \"D\"\n",
    "\n",
    "house_by_dist.loc[house_by_dist.PARTY == \"W(R)\"      , 'PARTY_VALID'] = \"R\"\n",
    "house_by_dist.loc[house_by_dist.PARTY == \"W(R)/R\"    , 'PARTY_VALID'] = \"R\"\n",
    "house_by_dist.loc[house_by_dist.PARTY == \"R\\xa0\"     , 'PARTY_VALID'] = \"R\"\n",
    "\n",
    "house_by_dist.loc[house_by_dist.PARTY == \"W(DNL)\"    , 'PARTY_VALID'] = \"DNL\"\n",
    "\n",
    "house_by_dist.loc[house_by_dist.PARTY == \"W(PRO)\"    , 'PARTY_VALID'] = \"PRO\"\n",
    "\n",
    "house_by_dist.loc[house_by_dist.PARTY == \"W(WG)\"     , 'PARTY_VALID'] = \"WG\"\n",
    "\n",
    "house_by_dist.loc[house_by_dist.PARTY == \"W(IP)\"     , 'PARTY_VALID'] = \"IP\"\n",
    "\n",
    "house_by_dist.loc[house_by_dist.PARTY == \"W(DCG)\"    , 'PARTY_VALID'] = \"DCG\"\n",
    "\n",
    "house_by_dist.loc[house_by_dist.PARTY == \"W(CON)\"    , 'PARTY_VALID'] = \"CON\"\n",
    "\n",
    "house_by_dist.loc[house_by_dist.PARTY == \"W(NPP)\"    , 'PARTY_VALID'] = \"NPP\"\n",
    "\n",
    "house_by_dist.loc[house_by_dist.PARTY == \"W(PPD)\"    , 'PARTY_VALID'] = \"PPD\"\n",
    "\n",
    "#Print categories after standardization\n",
    "print(sorted(house_by_dist.PARTY_VALID.unique()))"
   ]
  },
  {
   "cell_type": "markdown",
   "metadata": {},
   "source": [
    "What happens in the next cell can most likely be improved by looking into the specific cases, but for now this is what is being done. When a candidate is changed to `no-party`, its votes are not counted towards the adjustment seats.\n",
    "\n",
    "Then independent or non-affiliated candidates are changed to `no-party`. Candidates listed for multiple parties are listed as `no-party`."
   ]
  },
  {
   "cell_type": "code",
   "execution_count": 30,
   "metadata": {},
   "outputs": [
    {
     "name": "stdout",
     "output_type": "stream",
     "text": [
      "['AM', 'AO', 'BLM', 'CON', 'CRV', 'D', 'DCG', 'DFL', 'DNL', 'EG', 'FI', 'FPR', 'GRE', 'HBP', 'IAP', 'IDP', 'IP', 'LBF', 'LBU', 'LIB', 'LMN', 'LMP', 'MGW', 'N', 'NBP', 'NLP', 'NSA', 'PAF', 'PCC', 'PG', 'PIP', 'PRO', 'R', 'REF', 'RNN', 'SID', 'TC', 'TED', 'TGP', 'UPJ', 'UST', 'VPA', 'WC', 'WDB', 'WEP', 'WF', 'WG', 'WOP', 'WRN', 'WTP', 'WUA', 'no-party']\n"
     ]
    }
   ],
   "source": [
    "#Remove party names from non-valid party names\n",
    "\n",
    "# NOP - No Party Affiliance\n",
    "house_by_dist.loc[house_by_dist.PARTY == \"NOP\"    , 'PARTY_VALID'] = \"no-party\"\n",
    "house_by_dist.loc[house_by_dist.PARTY == \"W(NOP)\" , 'PARTY_VALID'] = \"no-party\"\n",
    "house_by_dist.loc[house_by_dist.PARTY == \"NAF\"    , 'PARTY_VALID'] = \"no-party\"\n",
    "house_by_dist.loc[house_by_dist.PARTY == \"NNE\"    , 'PARTY_VALID'] = \"no-party\"\n",
    "house_by_dist.loc[house_by_dist.PARTY == \"NPA\"    , 'PARTY_VALID'] = \"no-party\"\n",
    "house_by_dist.loc[house_by_dist.PARTY == \"NPY\"    , 'PARTY_VALID'] = \"no-party\"\n",
    "\n",
    "# OTH - Other\n",
    "house_by_dist.loc[house_by_dist.PARTY == \"OTH\"    , 'PARTY_VALID'] = \"no-party\"\n",
    "# IND independent\n",
    "house_by_dist.loc[house_by_dist.PARTY == \"IND\"    , 'PARTY_VALID'] = \"no-party\"\n",
    "house_by_dist.loc[house_by_dist.PARTY == \"INP\"    , 'PARTY_VALID'] = \"no-party\"\n",
    "house_by_dist.loc[house_by_dist.PARTY == \"W(IND)\" , 'PARTY_VALID'] = \"no-party\"\n",
    "\n",
    "#Ambigious\n",
    "house_by_dist.loc[house_by_dist.PARTY == \"D/IP\"        , 'PARTY_VALID'] = \"no-party\"\n",
    "house_by_dist.loc[house_by_dist.PARTY == \"D/PRO/WF/IP\" , 'PARTY_VALID'] = \"no-party\"\n",
    "house_by_dist.loc[house_by_dist.PARTY == \"D/R\"         , 'PARTY_VALID'] = \"no-party\"\n",
    "house_by_dist.loc[house_by_dist.PARTY == \"IP/R\"        , 'PARTY_VALID'] = \"no-party\"\n",
    "house_by_dist.loc[house_by_dist.PARTY == \"R/CON\"       , 'PARTY_VALID'] = \"no-party\"\n",
    "house_by_dist.loc[house_by_dist.PARTY == \"R/IP\"        , 'PARTY_VALID'] = \"no-party\"\n",
    "house_by_dist.loc[house_by_dist.PARTY == \"R/TRP\"       , 'PARTY_VALID'] = \"no-party\"\n",
    "\n",
    "# Un enrolloed\n",
    "house_by_dist.loc[house_by_dist.PARTY == \"U\"      , 'PARTY_VALID'] = \"no-party\"\n",
    "house_by_dist.loc[house_by_dist.PARTY == \"UN\"     , 'PARTY_VALID'] = \"no-party\"\n",
    "\n",
    "#Write ins\n",
    "# W - unspecified write ins\n",
    "house_by_dist.loc[house_by_dist.PARTY == \"W\"      , 'PARTY_VALID'] = \"no-party\"\n",
    "# Ambigious write ins \n",
    "#  - W(D)/W, R/W\n",
    "house_by_dist.loc[house_by_dist.PARTY == \"W(D)/W\" , 'PARTY_VALID'] = \"no-party\"\n",
    "house_by_dist.loc[house_by_dist.PARTY == \"R/W\"    , 'PARTY_VALID'] = \"no-party\"\n",
    "\n",
    "#Print categories after removind invaid party names\n",
    "print(sorted(house_by_dist.PARTY_VALID.unique()))"
   ]
  },
  {
   "cell_type": "markdown",
   "metadata": {},
   "source": [
    "### Remove rows with no general votes\n",
    "\n",
    "Rows with no general votes at this point are candidates that were eliminated in the primaries and for that reason has no result in the general election. See the first 5 examples below. These rows are then removed."
   ]
  },
  {
   "cell_type": "code",
   "execution_count": 31,
   "metadata": {},
   "outputs": [
    {
     "data": {
      "text/html": [
       "<div>\n",
       "<style scoped>\n",
       "    .dataframe tbody tr th:only-of-type {\n",
       "        vertical-align: middle;\n",
       "    }\n",
       "\n",
       "    .dataframe tbody tr th {\n",
       "        vertical-align: top;\n",
       "    }\n",
       "\n",
       "    .dataframe thead th {\n",
       "        text-align: right;\n",
       "    }\n",
       "</style>\n",
       "<table border=\"1\" class=\"dataframe\">\n",
       "  <thead>\n",
       "    <tr style=\"text-align: right;\">\n",
       "      <th></th>\n",
       "      <th>row_excel</th>\n",
       "      <th>STATE_ABBREVIATION</th>\n",
       "      <th>D_ID</th>\n",
       "      <th>PARTY</th>\n",
       "      <th>GENERAL_VOTES</th>\n",
       "      <th>DISTRICT_VOTES</th>\n",
       "      <th>PARTY_VALID</th>\n",
       "    </tr>\n",
       "  </thead>\n",
       "  <tbody>\n",
       "    <tr>\n",
       "      <th>1</th>\n",
       "      <td>5</td>\n",
       "      <td>AL</td>\n",
       "      <td>AL_01</td>\n",
       "      <td>R</td>\n",
       "      <td>NaN</td>\n",
       "      <td>215893</td>\n",
       "      <td>R</td>\n",
       "    </tr>\n",
       "    <tr>\n",
       "      <th>4</th>\n",
       "      <td>11</td>\n",
       "      <td>AL</td>\n",
       "      <td>AL_02</td>\n",
       "      <td>R</td>\n",
       "      <td>NaN</td>\n",
       "      <td>276584</td>\n",
       "      <td>R</td>\n",
       "    </tr>\n",
       "    <tr>\n",
       "      <th>5</th>\n",
       "      <td>12</td>\n",
       "      <td>AL</td>\n",
       "      <td>AL_02</td>\n",
       "      <td>R</td>\n",
       "      <td>NaN</td>\n",
       "      <td>276584</td>\n",
       "      <td>R</td>\n",
       "    </tr>\n",
       "    <tr>\n",
       "      <th>9</th>\n",
       "      <td>19</td>\n",
       "      <td>AL</td>\n",
       "      <td>AL_03</td>\n",
       "      <td>R</td>\n",
       "      <td>NaN</td>\n",
       "      <td>287104</td>\n",
       "      <td>R</td>\n",
       "    </tr>\n",
       "    <tr>\n",
       "      <th>13</th>\n",
       "      <td>26</td>\n",
       "      <td>AL</td>\n",
       "      <td>AL_04</td>\n",
       "      <td>R</td>\n",
       "      <td>NaN</td>\n",
       "      <td>239444</td>\n",
       "      <td>R</td>\n",
       "    </tr>\n",
       "  </tbody>\n",
       "</table>\n",
       "</div>"
      ],
      "text/plain": [
       "    row_excel STATE_ABBREVIATION   D_ID PARTY GENERAL_VOTES DISTRICT_VOTES  \\\n",
       "1           5                 AL  AL_01     R           NaN         215893   \n",
       "4          11                 AL  AL_02     R           NaN         276584   \n",
       "5          12                 AL  AL_02     R           NaN         276584   \n",
       "9          19                 AL  AL_03     R           NaN         287104   \n",
       "13         26                 AL  AL_04     R           NaN         239444   \n",
       "\n",
       "   PARTY_VALID  \n",
       "1            R  \n",
       "4            R  \n",
       "5            R  \n",
       "9            R  \n",
       "13           R  "
      ]
     },
     "execution_count": 31,
     "metadata": {},
     "output_type": "execute_result"
    }
   ],
   "source": [
    "votes_nan = house_by_dist[(house_by_dist.GENERAL_VOTES.isnull())]\n",
    "votes_nan.head()\n",
    "#votes_nan.head(500)"
   ]
  },
  {
   "cell_type": "code",
   "execution_count": 32,
   "metadata": {},
   "outputs": [
    {
     "name": "stdout",
     "output_type": "stream",
     "text": [
      "Shape before dopping missing vote number:  (2391, 7)\n",
      "Shape after dopping missing vote number:  (1441, 7)\n"
     ]
    }
   ],
   "source": [
    "#Drop obs with no general votes. I.e. candidates that were eliminated in primaries\n",
    "print(\"Shape before dopping missing vote number: \",house_by_dist.shape)\n",
    "house_by_dist = house_by_dist.dropna(subset=['GENERAL_VOTES'])\n",
    "print(\"Shape after dopping missing vote number: \",house_by_dist.shape)"
   ]
  },
  {
   "cell_type": "markdown",
   "metadata": {},
   "source": [
    "## Check data\n",
    "\n",
    "The data is at this point checked by summarizing all votes for each candidate and check them against FEC's summary of total number of votes pre district. This way we make sure that we have not dropped any row with data on a candidate that actually particpated in the general election. \n",
    "\n",
    "Errors already detected by this excercise have already been corrected above."
   ]
  },
  {
   "cell_type": "code",
   "execution_count": 33,
   "metadata": {},
   "outputs": [],
   "source": [
    "#Calculate check sum to make sure district vote is correct\n",
    "control_sum_series = house_by_dist['GENERAL_VOTES'].groupby([house_by_dist.D_ID]).sum()\n",
    "\n",
    "control_sum = pd.DataFrame({'D_ID':control_sum_series.index, \n",
    "                            'DISTRICT_VOTES_ctrl':control_sum_series.values})\n",
    "\n",
    "house_by_dist = pd.merge(house_by_dist, control_sum, on='D_ID')"
   ]
  },
  {
   "cell_type": "code",
   "execution_count": 34,
   "metadata": {},
   "outputs": [
    {
     "data": {
      "text/html": [
       "<div>\n",
       "<style scoped>\n",
       "    .dataframe tbody tr th:only-of-type {\n",
       "        vertical-align: middle;\n",
       "    }\n",
       "\n",
       "    .dataframe tbody tr th {\n",
       "        vertical-align: top;\n",
       "    }\n",
       "\n",
       "    .dataframe thead th {\n",
       "        text-align: right;\n",
       "    }\n",
       "</style>\n",
       "<table border=\"1\" class=\"dataframe\">\n",
       "  <thead>\n",
       "    <tr style=\"text-align: right;\">\n",
       "      <th></th>\n",
       "      <th>row_excel</th>\n",
       "      <th>STATE_ABBREVIATION</th>\n",
       "      <th>D_ID</th>\n",
       "      <th>PARTY</th>\n",
       "      <th>GENERAL_VOTES</th>\n",
       "      <th>DISTRICT_VOTES</th>\n",
       "      <th>PARTY_VALID</th>\n",
       "      <th>DISTRICT_VOTES_ctrl</th>\n",
       "    </tr>\n",
       "  </thead>\n",
       "  <tbody>\n",
       "    <tr>\n",
       "      <th>56</th>\n",
       "      <td>188</td>\n",
       "      <td>AR</td>\n",
       "      <td>AR_02</td>\n",
       "      <td>R</td>\n",
       "      <td>176472</td>\n",
       "      <td>302464</td>\n",
       "      <td>R</td>\n",
       "      <td>302464</td>\n",
       "    </tr>\n",
       "    <tr>\n",
       "      <th>57</th>\n",
       "      <td>191</td>\n",
       "      <td>AR</td>\n",
       "      <td>AR_02</td>\n",
       "      <td>D</td>\n",
       "      <td>111347</td>\n",
       "      <td>302464</td>\n",
       "      <td>D</td>\n",
       "      <td>302464</td>\n",
       "    </tr>\n",
       "    <tr>\n",
       "      <th>58</th>\n",
       "      <td>192</td>\n",
       "      <td>AR</td>\n",
       "      <td>AR_02</td>\n",
       "      <td>LIB</td>\n",
       "      <td>14342</td>\n",
       "      <td>302464</td>\n",
       "      <td>LIB</td>\n",
       "      <td>302464</td>\n",
       "    </tr>\n",
       "    <tr>\n",
       "      <th>59</th>\n",
       "      <td>193</td>\n",
       "      <td>AR</td>\n",
       "      <td>AR_02</td>\n",
       "      <td>W</td>\n",
       "      <td>303</td>\n",
       "      <td>302464</td>\n",
       "      <td>no-party</td>\n",
       "      <td>302464</td>\n",
       "    </tr>\n",
       "  </tbody>\n",
       "</table>\n",
       "</div>"
      ],
      "text/plain": [
       "    row_excel STATE_ABBREVIATION   D_ID PARTY GENERAL_VOTES DISTRICT_VOTES  \\\n",
       "56        188                 AR  AR_02     R        176472         302464   \n",
       "57        191                 AR  AR_02     D        111347         302464   \n",
       "58        192                 AR  AR_02   LIB         14342         302464   \n",
       "59        193                 AR  AR_02     W           303         302464   \n",
       "\n",
       "   PARTY_VALID DISTRICT_VOTES_ctrl  \n",
       "56           R              302464  \n",
       "57           D              302464  \n",
       "58         LIB              302464  \n",
       "59    no-party              302464  "
      ]
     },
     "execution_count": 34,
     "metadata": {},
     "output_type": "execute_result"
    }
   ],
   "source": [
    "#Use this line to explore district by district\n",
    "house_by_dist.loc[house_by_dist.D_ID == \"AR_02\"].head(100)"
   ]
  },
  {
   "cell_type": "markdown",
   "metadata": {},
   "source": [
    "This cell lists the observations that do not pass the check. Then the control value is removed."
   ]
  },
  {
   "cell_type": "code",
   "execution_count": 35,
   "metadata": {},
   "outputs": [
    {
     "data": {
      "text/html": [
       "<div>\n",
       "<style scoped>\n",
       "    .dataframe tbody tr th:only-of-type {\n",
       "        vertical-align: middle;\n",
       "    }\n",
       "\n",
       "    .dataframe tbody tr th {\n",
       "        vertical-align: top;\n",
       "    }\n",
       "\n",
       "    .dataframe thead th {\n",
       "        text-align: right;\n",
       "    }\n",
       "</style>\n",
       "<table border=\"1\" class=\"dataframe\">\n",
       "  <thead>\n",
       "    <tr style=\"text-align: right;\">\n",
       "      <th></th>\n",
       "      <th>row_excel</th>\n",
       "      <th>STATE_ABBREVIATION</th>\n",
       "      <th>D_ID</th>\n",
       "      <th>PARTY</th>\n",
       "      <th>GENERAL_VOTES</th>\n",
       "      <th>DISTRICT_VOTES</th>\n",
       "      <th>PARTY_VALID</th>\n",
       "      <th>DISTRICT_VOTES_ctrl</th>\n",
       "    </tr>\n",
       "  </thead>\n",
       "  <tbody>\n",
       "    <tr>\n",
       "      <th>295</th>\n",
       "      <td>833</td>\n",
       "      <td>FL</td>\n",
       "      <td>FL_24</td>\n",
       "      <td>D</td>\n",
       "      <td>Unopposed</td>\n",
       "      <td>NaN</td>\n",
       "      <td>D</td>\n",
       "      <td>Unopposed</td>\n",
       "    </tr>\n",
       "    <tr>\n",
       "      <th>1041</th>\n",
       "      <td>2894</td>\n",
       "      <td>OK</td>\n",
       "      <td>OK_01</td>\n",
       "      <td>R</td>\n",
       "      <td>Unopposed</td>\n",
       "      <td>NaN</td>\n",
       "      <td>R</td>\n",
       "      <td>Unopposed</td>\n",
       "    </tr>\n",
       "  </tbody>\n",
       "</table>\n",
       "</div>"
      ],
      "text/plain": [
       "      row_excel STATE_ABBREVIATION   D_ID PARTY GENERAL_VOTES DISTRICT_VOTES  \\\n",
       "295         833                 FL  FL_24     D     Unopposed            NaN   \n",
       "1041       2894                 OK  OK_01     R     Unopposed            NaN   \n",
       "\n",
       "     PARTY_VALID DISTRICT_VOTES_ctrl  \n",
       "295            D           Unopposed  \n",
       "1041           R           Unopposed  "
      ]
     },
     "execution_count": 35,
     "metadata": {},
     "output_type": "execute_result"
    }
   ],
   "source": [
    "#List observation where control sum is incorrect\n",
    "house_by_dist[house_by_dist.DISTRICT_VOTES != house_by_dist.DISTRICT_VOTES_ctrl].head(100)"
   ]
  },
  {
   "cell_type": "code",
   "execution_count": 36,
   "metadata": {},
   "outputs": [
    {
     "data": {
      "text/html": [
       "<div>\n",
       "<style scoped>\n",
       "    .dataframe tbody tr th:only-of-type {\n",
       "        vertical-align: middle;\n",
       "    }\n",
       "\n",
       "    .dataframe tbody tr th {\n",
       "        vertical-align: top;\n",
       "    }\n",
       "\n",
       "    .dataframe thead th {\n",
       "        text-align: right;\n",
       "    }\n",
       "</style>\n",
       "<table border=\"1\" class=\"dataframe\">\n",
       "  <thead>\n",
       "    <tr style=\"text-align: right;\">\n",
       "      <th></th>\n",
       "      <th>STATE_ABBREVIATION</th>\n",
       "      <th>D_ID</th>\n",
       "      <th>PARTY</th>\n",
       "      <th>GENERAL_VOTES</th>\n",
       "      <th>DISTRICT_VOTES</th>\n",
       "      <th>PARTY_VALID</th>\n",
       "    </tr>\n",
       "  </thead>\n",
       "  <tbody>\n",
       "    <tr>\n",
       "      <th>0</th>\n",
       "      <td>AL</td>\n",
       "      <td>AL_01</td>\n",
       "      <td>R</td>\n",
       "      <td>208083</td>\n",
       "      <td>215893</td>\n",
       "      <td>R</td>\n",
       "    </tr>\n",
       "    <tr>\n",
       "      <th>1</th>\n",
       "      <td>AL</td>\n",
       "      <td>AL_01</td>\n",
       "      <td>W</td>\n",
       "      <td>7810</td>\n",
       "      <td>215893</td>\n",
       "      <td>no-party</td>\n",
       "    </tr>\n",
       "    <tr>\n",
       "      <th>2</th>\n",
       "      <td>AL</td>\n",
       "      <td>AL_02</td>\n",
       "      <td>R</td>\n",
       "      <td>134886</td>\n",
       "      <td>276584</td>\n",
       "      <td>R</td>\n",
       "    </tr>\n",
       "    <tr>\n",
       "      <th>3</th>\n",
       "      <td>AL</td>\n",
       "      <td>AL_02</td>\n",
       "      <td>D</td>\n",
       "      <td>112089</td>\n",
       "      <td>276584</td>\n",
       "      <td>D</td>\n",
       "    </tr>\n",
       "    <tr>\n",
       "      <th>4</th>\n",
       "      <td>AL</td>\n",
       "      <td>AL_02</td>\n",
       "      <td>W</td>\n",
       "      <td>29609</td>\n",
       "      <td>276584</td>\n",
       "      <td>no-party</td>\n",
       "    </tr>\n",
       "  </tbody>\n",
       "</table>\n",
       "</div>"
      ],
      "text/plain": [
       "  STATE_ABBREVIATION   D_ID PARTY GENERAL_VOTES DISTRICT_VOTES PARTY_VALID\n",
       "0                 AL  AL_01     R        208083         215893           R\n",
       "1                 AL  AL_01     W          7810         215893    no-party\n",
       "2                 AL  AL_02     R        134886         276584           R\n",
       "3                 AL  AL_02     D        112089         276584           D\n",
       "4                 AL  AL_02     W         29609         276584    no-party"
      ]
     },
     "execution_count": 36,
     "metadata": {},
     "output_type": "execute_result"
    }
   ],
   "source": [
    "# Remove Control value\n",
    "house_by_dist = house_by_dist.drop(['DISTRICT_VOTES_ctrl','row_excel'], axis=1)\n",
    "house_by_dist.head()"
   ]
  },
  {
   "cell_type": "markdown",
   "metadata": {},
   "source": [
    "## Saving data\n",
    "\n",
    "Check the number of elections that we have data for. 435 seats, plus terretories like Guam.\n",
    "\n",
    "Then rename variable names, re-order the columns and then save it."
   ]
  },
  {
   "cell_type": "code",
   "execution_count": 37,
   "metadata": {},
   "outputs": [
    {
     "name": "stdout",
     "output_type": "stream",
     "text": [
      "439\n"
     ]
    }
   ],
   "source": [
    "print(house_by_dist.D_ID.unique().size)"
   ]
  },
  {
   "cell_type": "code",
   "execution_count": 38,
   "metadata": {},
   "outputs": [],
   "source": [
    "#Rename columns to final names\n",
    "house_by_dist.rename(columns={'STATE_ABBREVIATION':'STATE',\n",
    "                              'GENERAL_VOTES':'VOTES',\n",
    "                              'DISTRICT_VOTES':'ALL_VOTES_DISTRICT'}, inplace=True)\n",
    "\n",
    "#Re-order columns to final order\n",
    "house_by_dist = house_by_dist[['STATE','D_ID','PARTY','PARTY_VALID','VOTES','ALL_VOTES_DISTRICT']]\n",
    "\n",
    "#Save file\n",
    "house_by_dist.to_csv('../cleaned-data/house-elections-cleaned.csv')"
   ]
  }
 ],
 "metadata": {
  "kernelspec": {
   "display_name": "Python 3",
   "language": "python",
   "name": "python3"
  },
  "language_info": {
   "codemirror_mode": {
    "name": "ipython",
    "version": 3
   },
   "file_extension": ".py",
   "mimetype": "text/x-python",
   "name": "python",
   "nbconvert_exporter": "python",
   "pygments_lexer": "ipython3",
   "version": "3.6.4"
  }
 },
 "nbformat": 4,
 "nbformat_minor": 2
}
