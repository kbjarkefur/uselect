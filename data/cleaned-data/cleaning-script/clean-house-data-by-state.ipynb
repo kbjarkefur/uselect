{
 "cells": [
  {
   "cell_type": "markdown",
   "metadata": {},
   "source": [
    "# Preparing National Election Data for the House of Representatives\n",
    "\n",
    "The official source keeps all data - including primary elections - in a single file. The purpose of this notebook is to clean the file so that only the general election is represented and all rows that do not include general election results are removed. Such rows could be state headers, district summaries and candidates that were eliminated in the primaries."
   ]
  },
  {
   "cell_type": "code",
   "execution_count": 1,
   "metadata": {},
   "outputs": [],
   "source": [
    "# Import libraries used in this notebook\n",
    "import requests, os\n",
    "\n",
    "from statistics import mean\n",
    "\n",
    "import numpy as np\n",
    "import pandas as pd\n",
    "from pandas import ExcelWriter\n",
    "from pandas import ExcelFile\n",
    "\n",
    "pd.set_option('display.max_rows', 2000)\n",
    "\n",
    "import xlrd"
   ]
  },
  {
   "cell_type": "code",
   "execution_count": 2,
   "metadata": {},
   "outputs": [
    {
     "name": "stdout",
     "output_type": "stream",
     "text": [
      "File already exists\n"
     ]
    }
   ],
   "source": [
    "#Local file path\n",
    "raw_data = '../../raw-data/federal-election-results/federalelections2016.xlsx'\n",
    "\n",
    "#Test if file already exist. Change replace to True to overwrite local file\n",
    "replace = False\n",
    "if os.path.isfile(raw_data) or replace:\n",
    "    print(\"File already exists\")\n",
    "else:\n",
    "    print(\"Downloading file\")\n",
    "    #Get the file from the Federal Election Committe's website\n",
    "    r = requests.get('https://transition.fec.gov/pubrec/fe2016/federalelections2016.xlsx')\n",
    "\n",
    "    #Save it to disk\n",
    "    with open(raw_data,'wb') as f: \n",
    "        f.write(r.content) "
   ]
  },
  {
   "cell_type": "code",
   "execution_count": 3,
   "metadata": {},
   "outputs": [
    {
     "data": {
      "text/plain": [
       "['row_excel',\n",
       " 'STATE_ABB',\n",
       " 'STATE',\n",
       " 'D',\n",
       " 'FEC_ID',\n",
       " '(I)',\n",
       " 'CANDIDATE NAME (First)',\n",
       " 'CANDIDATE NAME (Last)',\n",
       " 'CANDIDATE_NAME',\n",
       " 'TOTAL_VOTES',\n",
       " 'PARTY',\n",
       " 'PRIMARY_VOTES',\n",
       " 'PRIMARY %',\n",
       " 'RUNOFF_VOTES',\n",
       " 'RUNOFF %',\n",
       " 'GENERAL_VOTES',\n",
       " 'GENERAL %',\n",
       " 'RUNOFF_VOTES_LA',\n",
       " 'GE RUNOFF ELECTION % (LA)',\n",
       " 'COMBINED GE PARTY TOTALS (CT, NY, SC)',\n",
       " 'COMBINED % (CT, NY, SC)',\n",
       " 'GE WINNER INDICATOR',\n",
       " 'FOOTNOTES']"
      ]
     },
     "execution_count": 3,
     "metadata": {},
     "output_type": "execute_result"
    }
   ],
   "source": [
    "#Load the sheet with \n",
    "house_US = pd.read_excel(raw_data, sheet_name='2016 US House Results by State')\n",
    "#Rename column names with spaces or other characters now suitable for code\n",
    "house_US.rename(columns={1:'row_excel','CANDIDATE NAME':'CANDIDATE_NAME','TOTAL VOTES':'TOTAL_VOTES',\n",
    "                            'PRIMARY VOTES':'PRIMARY_VOTES','GENERAL VOTES ':'GENERAL_VOTES','FEC ID#':'FEC_ID',\n",
    "                            'STATE ABBREVIATION':'STATE_ABB','RUNOFF VOTES':'RUNOFF_VOTES',\n",
    "                            'GE RUNOFF ELECTION VOTES (LA)':'RUNOFF_VOTES_LA'}, inplace=True)\n",
    "list(house_US.columns.values)"
   ]
  },
  {
   "cell_type": "markdown",
   "metadata": {},
   "source": [
    "## General prep\n",
    "Start by trimming excessivle spaces from the FEC's Excel file."
   ]
  },
  {
   "cell_type": "code",
   "execution_count": 4,
   "metadata": {},
   "outputs": [],
   "source": [
    "#Remove excessive spaces before and after ID that makes the same ID differnt when \n",
    "# read by the code, for example \"FL_24\" and \"FL_24 \"\n",
    "house_US.D = house_US.D.str.strip()\n",
    "\n",
    "#Remove excess spaces for party abbreviations\n",
    "house_US.PARTY = house_US.PARTY.str.strip()"
   ]
  },
  {
   "cell_type": "markdown",
   "metadata": {},
   "source": [
    "Create a nation wide District ID"
   ]
  },
  {
   "cell_type": "code",
   "execution_count": 5,
   "metadata": {},
   "outputs": [],
   "source": [
    "#Drop rows with missing value for district or state\n",
    "house_US = house_US.dropna(subset=['D','STATE'])\n",
    "\n",
    "#This is just correcting a typo in KY district 1. Must correct it here as\n",
    "#we will merge on district ID before we clean state specific rows\n",
    "house_US.loc[house_US.D == \"1 - UNEXPIRED TERM\", 'D'] = \"01 - UNEXPIRED TERM\"\n",
    "\n",
    "# Create nationally unique ID\n",
    "house_US[\"D_ID\"] = house_US.STATE_ABB + \"_\" + house_US.D.map(str)"
   ]
  },
  {
   "cell_type": "markdown",
   "metadata": {},
   "source": [
    "Copy aggregation rows to columns. State totals and district totals"
   ]
  },
  {
   "cell_type": "code",
   "execution_count": 6,
   "metadata": {},
   "outputs": [],
   "source": [
    "#Subset district total to a df to be merged back to all rows\n",
    "votes_dist_agg = house_US.loc[house_US.TOTAL_VOTES == \"District Votes:\"]\n",
    "votes_dist_agg = votes_dist_agg[['D_ID','GENERAL_VOTES']]\n",
    "votes_dist_agg.columns = ['D_ID','DISTRICT_VOTES']\n",
    "\n",
    "#Subset state total to a df to be merged back to all rows\n",
    "votes_state_agg = house_US.loc[house_US.TOTAL_VOTES == \"Total State Votes:\"]\n",
    "votes_state_agg = votes_state_agg[['STATE_ABB','GENERAL_VOTES']]\n",
    "votes_state_agg.columns = ['STATE_ABB','STATE_VOTES']"
   ]
  },
  {
   "cell_type": "code",
   "execution_count": 7,
   "metadata": {},
   "outputs": [
    {
     "data": {
      "text/html": [
       "<div>\n",
       "<style scoped>\n",
       "    .dataframe tbody tr th:only-of-type {\n",
       "        vertical-align: middle;\n",
       "    }\n",
       "\n",
       "    .dataframe tbody tr th {\n",
       "        vertical-align: top;\n",
       "    }\n",
       "\n",
       "    .dataframe thead th {\n",
       "        text-align: right;\n",
       "    }\n",
       "</style>\n",
       "<table border=\"1\" class=\"dataframe\">\n",
       "  <thead>\n",
       "    <tr style=\"text-align: right;\">\n",
       "      <th></th>\n",
       "      <th>STATE_ABB</th>\n",
       "      <th>STATE</th>\n",
       "      <th>D_ID</th>\n",
       "      <th>D</th>\n",
       "      <th>CANDIDATE_NAME</th>\n",
       "      <th>PARTY</th>\n",
       "      <th>PRIMARY_VOTES</th>\n",
       "      <th>GENERAL_VOTES</th>\n",
       "      <th>RUNOFF_VOTES</th>\n",
       "      <th>RUNOFF_VOTES_LA</th>\n",
       "      <th>DISTRICT_VOTES</th>\n",
       "      <th>STATE_VOTES</th>\n",
       "    </tr>\n",
       "  </thead>\n",
       "  <tbody>\n",
       "    <tr>\n",
       "      <th>0</th>\n",
       "      <td>AL</td>\n",
       "      <td>Alabama</td>\n",
       "      <td>AL_01</td>\n",
       "      <td>01</td>\n",
       "      <td>Byrne, Bradley</td>\n",
       "      <td>R</td>\n",
       "      <td>71310</td>\n",
       "      <td>208083</td>\n",
       "      <td>NaN</td>\n",
       "      <td>NaN</td>\n",
       "      <td>215893</td>\n",
       "      <td>1889685</td>\n",
       "    </tr>\n",
       "    <tr>\n",
       "      <th>1</th>\n",
       "      <td>AL</td>\n",
       "      <td>Alabama</td>\n",
       "      <td>AL_01</td>\n",
       "      <td>01</td>\n",
       "      <td>Young, Dean</td>\n",
       "      <td>R</td>\n",
       "      <td>47319</td>\n",
       "      <td>NaN</td>\n",
       "      <td>NaN</td>\n",
       "      <td>NaN</td>\n",
       "      <td>215893</td>\n",
       "      <td>1889685</td>\n",
       "    </tr>\n",
       "    <tr>\n",
       "      <th>2</th>\n",
       "      <td>AL</td>\n",
       "      <td>Alabama</td>\n",
       "      <td>AL_01</td>\n",
       "      <td>01</td>\n",
       "      <td>Scattered</td>\n",
       "      <td>W</td>\n",
       "      <td>NaN</td>\n",
       "      <td>7810</td>\n",
       "      <td>NaN</td>\n",
       "      <td>NaN</td>\n",
       "      <td>215893</td>\n",
       "      <td>1889685</td>\n",
       "    </tr>\n",
       "    <tr>\n",
       "      <th>3</th>\n",
       "      <td>AL</td>\n",
       "      <td>Alabama</td>\n",
       "      <td>AL_02</td>\n",
       "      <td>02</td>\n",
       "      <td>Roby, Martha</td>\n",
       "      <td>R</td>\n",
       "      <td>78689</td>\n",
       "      <td>134886</td>\n",
       "      <td>NaN</td>\n",
       "      <td>NaN</td>\n",
       "      <td>276584</td>\n",
       "      <td>1889685</td>\n",
       "    </tr>\n",
       "    <tr>\n",
       "      <th>4</th>\n",
       "      <td>AL</td>\n",
       "      <td>Alabama</td>\n",
       "      <td>AL_02</td>\n",
       "      <td>02</td>\n",
       "      <td>Gerritson, Becky</td>\n",
       "      <td>R</td>\n",
       "      <td>33015</td>\n",
       "      <td>NaN</td>\n",
       "      <td>NaN</td>\n",
       "      <td>NaN</td>\n",
       "      <td>276584</td>\n",
       "      <td>1889685</td>\n",
       "    </tr>\n",
       "    <tr>\n",
       "      <th>5</th>\n",
       "      <td>AL</td>\n",
       "      <td>Alabama</td>\n",
       "      <td>AL_02</td>\n",
       "      <td>02</td>\n",
       "      <td>Rogers, Robert L. \"Bob\"</td>\n",
       "      <td>R</td>\n",
       "      <td>6856</td>\n",
       "      <td>NaN</td>\n",
       "      <td>NaN</td>\n",
       "      <td>NaN</td>\n",
       "      <td>276584</td>\n",
       "      <td>1889685</td>\n",
       "    </tr>\n",
       "    <tr>\n",
       "      <th>6</th>\n",
       "      <td>AL</td>\n",
       "      <td>Alabama</td>\n",
       "      <td>AL_02</td>\n",
       "      <td>02</td>\n",
       "      <td>Mathis, Nathan</td>\n",
       "      <td>D</td>\n",
       "      <td>Unopposed</td>\n",
       "      <td>112089</td>\n",
       "      <td>NaN</td>\n",
       "      <td>NaN</td>\n",
       "      <td>276584</td>\n",
       "      <td>1889685</td>\n",
       "    </tr>\n",
       "    <tr>\n",
       "      <th>7</th>\n",
       "      <td>AL</td>\n",
       "      <td>Alabama</td>\n",
       "      <td>AL_02</td>\n",
       "      <td>02</td>\n",
       "      <td>Scattered</td>\n",
       "      <td>W</td>\n",
       "      <td>NaN</td>\n",
       "      <td>29609</td>\n",
       "      <td>NaN</td>\n",
       "      <td>NaN</td>\n",
       "      <td>276584</td>\n",
       "      <td>1889685</td>\n",
       "    </tr>\n",
       "  </tbody>\n",
       "</table>\n",
       "</div>"
      ],
      "text/plain": [
       "  STATE_ABB    STATE   D_ID   D           CANDIDATE_NAME PARTY PRIMARY_VOTES  \\\n",
       "0        AL  Alabama  AL_01  01           Byrne, Bradley     R         71310   \n",
       "1        AL  Alabama  AL_01  01              Young, Dean     R         47319   \n",
       "2        AL  Alabama  AL_01  01                Scattered     W           NaN   \n",
       "3        AL  Alabama  AL_02  02             Roby, Martha     R         78689   \n",
       "4        AL  Alabama  AL_02  02         Gerritson, Becky     R         33015   \n",
       "5        AL  Alabama  AL_02  02  Rogers, Robert L. \"Bob\"     R          6856   \n",
       "6        AL  Alabama  AL_02  02          Mathis, Nathan      D     Unopposed   \n",
       "7        AL  Alabama  AL_02  02                Scattered     W           NaN   \n",
       "\n",
       "  GENERAL_VOTES  RUNOFF_VOTES  RUNOFF_VOTES_LA DISTRICT_VOTES STATE_VOTES  \n",
       "0        208083           NaN              NaN         215893     1889685  \n",
       "1           NaN           NaN              NaN         215893     1889685  \n",
       "2          7810           NaN              NaN         215893     1889685  \n",
       "3        134886           NaN              NaN         276584     1889685  \n",
       "4           NaN           NaN              NaN         276584     1889685  \n",
       "5           NaN           NaN              NaN         276584     1889685  \n",
       "6        112089           NaN              NaN         276584     1889685  \n",
       "7         29609           NaN              NaN         276584     1889685  "
      ]
     },
     "execution_count": 7,
     "metadata": {},
     "output_type": "execute_result"
    }
   ],
   "source": [
    "#Delete aggregation rows\n",
    "house_US = house_US.loc[house_US.TOTAL_VOTES != \"Party Votes:\"]\n",
    "house_US = house_US.loc[house_US.TOTAL_VOTES != \"District Votes:\"]\n",
    "house_US = house_US.loc[house_US.TOTAL_VOTES != \"Total State Votes:\"]\n",
    "\n",
    "#Keep only variables that we need\n",
    "house_US = house_US[[\"STATE_ABB\",'STATE','D_ID',\"D\",'CANDIDATE_NAME','PARTY'\n",
    "                     ,'PRIMARY_VOTES','GENERAL_VOTES','RUNOFF_VOTES','RUNOFF_VOTES_LA']]\n",
    "\n",
    "#Merge back teh aggregates we are interested in\n",
    "house_US = pd.merge(house_US, votes_dist_agg, on='D_ID', how='outer')\n",
    "house_US = pd.merge(house_US, votes_state_agg, on='STATE_ABB')\n",
    "\n",
    "#Look at the data at this point\n",
    "house_US.head(8)"
   ]
  },
  {
   "cell_type": "markdown",
   "metadata": {},
   "source": [
    "# State specific cleaning"
   ]
  },
  {
   "cell_type": "code",
   "execution_count": 8,
   "metadata": {},
   "outputs": [],
   "source": [
    "#Function that make sure all dfs are saved identically\n",
    "def state_csv_save(df):\n",
    "    df = df[[\"STATE_ABB\",'STATE','D_ID','CANDIDATE_NAME','PARTY','VOTES','RUNOFF_VOTES',\"DISTRICT_VOTES\",\"STATE_VOTES\"]]\n",
    "    state = df.STATE_ABB.unique()[0]\n",
    "    df.to_csv('../by-state/house-' + state + '-cleaned.csv', index=False)  \n",
    "    return df"
   ]
  },
  {
   "cell_type": "markdown",
   "metadata": {},
   "source": [
    "### Alabama"
   ]
  },
  {
   "cell_type": "code",
   "execution_count": 9,
   "metadata": {},
   "outputs": [
    {
     "name": "stdout",
     "output_type": "stream",
     "text": [
      "['R' 'W' 'D']\n"
     ]
    }
   ],
   "source": [
    "state = \"AL\"\n",
    "\n",
    "house_state = house_US.loc[house_US.STATE_ABB==state].copy()\n",
    "house_state = house_state.rename(columns={'GENERAL_VOTES':'VOTES'}).dropna(subset=['VOTES'])\n",
    "\n",
    "house_state = state_csv_save(house_state)\n",
    "\n",
    "print(house_state.PARTY.unique())\n",
    "#house_state.head(1000)"
   ]
  },
  {
   "cell_type": "markdown",
   "metadata": {},
   "source": [
    "### Alaska"
   ]
  },
  {
   "cell_type": "code",
   "execution_count": 10,
   "metadata": {},
   "outputs": [
    {
     "name": "stdout",
     "output_type": "stream",
     "text": [
      "['R' 'D' 'LIB' 'NAF' 'W']\n"
     ]
    }
   ],
   "source": [
    "state = \"AK\"\n",
    "\n",
    "house_state = house_US.loc[house_US.STATE_ABB==state].copy()\n",
    "house_state = house_state.rename(columns={'GENERAL_VOTES':'VOTES'}).dropna(subset=['VOTES'])\n",
    "\n",
    "house_state = state_csv_save(house_state)\n",
    "\n",
    "print(house_state.PARTY.unique())\n",
    "#house_state.head(1000)"
   ]
  },
  {
   "cell_type": "markdown",
   "metadata": {},
   "source": [
    "### Arizona"
   ]
  },
  {
   "cell_type": "code",
   "execution_count": 11,
   "metadata": {},
   "outputs": [
    {
     "name": "stdout",
     "output_type": "stream",
     "text": [
      "['D' 'R' 'GRE' 'W']\n"
     ]
    }
   ],
   "source": [
    "state = \"AZ\"\n",
    "\n",
    "house_state = house_US.loc[house_US.STATE_ABB==state].copy()\n",
    "house_state = house_state.rename(columns={'GENERAL_VOTES':'VOTES'}).dropna(subset=['VOTES'])\n",
    "\n",
    "house_state.loc[house_state.PARTY == \"W(GRE)/GRE\", 'PARTY'] = \"GRE\"\n",
    "\n",
    "house_state = state_csv_save(house_state)\n",
    "\n",
    "print(house_state.PARTY.unique())\n",
    "#house_state.head(1000)"
   ]
  },
  {
   "cell_type": "markdown",
   "metadata": {},
   "source": [
    "### Arkansas"
   ]
  },
  {
   "cell_type": "code",
   "execution_count": 12,
   "metadata": {},
   "outputs": [
    {
     "name": "stdout",
     "output_type": "stream",
     "text": [
      "['R' 'LIB' 'D' 'W']\n"
     ]
    }
   ],
   "source": [
    "state = \"AR\"\n",
    "\n",
    "house_state = house_US.loc[house_US.STATE_ABB==state].copy()\n",
    "house_state = house_state.rename(columns={'GENERAL_VOTES':'VOTES'}).dropna(subset=['VOTES'])\n",
    "\n",
    "house_state = state_csv_save(house_state)\n",
    "\n",
    "print(house_state.PARTY.unique())\n",
    "#house_state.head(1000)"
   ]
  },
  {
   "cell_type": "markdown",
   "metadata": {},
   "source": [
    "### California"
   ]
  },
  {
   "cell_type": "code",
   "execution_count": 13,
   "metadata": {},
   "outputs": [
    {
     "name": "stdout",
     "output_type": "stream",
     "text": [
      "['R' 'D' 'NOP' 'LIB' 'GRE' 'PAF']\n"
     ]
    }
   ],
   "source": [
    "state = \"CA\"\n",
    "\n",
    "house_state = house_US.loc[house_US.STATE_ABB==state].copy()\n",
    "\n",
    "house_state = house_state.dropna(subset=['CANDIDATE_NAME'])\n",
    "\n",
    "house_state.loc[house_state.PARTY == \"W(D)\", 'PARTY'] = \"D\"\n",
    "house_state.loc[house_state.PARTY == \"W(R)/R\", 'PARTY'] = \"R\"\n",
    "house_state.loc[house_state.PARTY == \"W(GRE)\", 'PARTY'] = \"GRE\"\n",
    "house_state.loc[house_state.PARTY == \"W(NOP)\", 'PARTY'] = \"NOP\"\n",
    "\n",
    "house_state = house_state.rename(columns={'PRIMARY_VOTES':'VOTES'})\n",
    "\n",
    "house_state['RUNOFF_VOTES'] = house_state['GENERAL_VOTES']\n",
    "\n",
    "house_state = state_csv_save(house_state)\n",
    "\n",
    "print(house_state.PARTY.unique())\n",
    "#house_state.head(1000)"
   ]
  },
  {
   "cell_type": "markdown",
   "metadata": {},
   "source": [
    "### Colorado"
   ]
  },
  {
   "cell_type": "code",
   "execution_count": 14,
   "metadata": {},
   "outputs": [
    {
     "name": "stdout",
     "output_type": "stream",
     "text": [
      "['D' 'R' 'LIB' 'W' 'GRE']\n"
     ]
    }
   ],
   "source": [
    "state = \"CO\"\n",
    "\n",
    "house_state = house_US.loc[house_US.STATE_ABB==state].copy()\n",
    "house_state = house_state.rename(columns={'GENERAL_VOTES':'VOTES'}).dropna(subset=['VOTES'])\n",
    "\n",
    "house_state.loc[house_state.PARTY == \"W(D)\", 'PARTY'] = \"D\"\n",
    "\n",
    "house_state = state_csv_save(house_state)\n",
    "\n",
    "print(house_state.PARTY.unique())\n",
    "#house_state.head(1000)"
   ]
  },
  {
   "cell_type": "markdown",
   "metadata": {},
   "source": [
    "### Cincinatti"
   ]
  },
  {
   "cell_type": "code",
   "execution_count": 15,
   "metadata": {},
   "outputs": [
    {
     "name": "stdout",
     "output_type": "stream",
     "text": [
      "['D' 'WF' 'R' 'GRE' 'W' 'LIB' 'IP']\n"
     ]
    }
   ],
   "source": [
    "state = \"CT\"\n",
    "\n",
    "house_state = house_US.loc[house_US.STATE_ABB==state].copy()\n",
    "house_state = house_state.rename(columns={'GENERAL_VOTES':'VOTES'}).dropna(subset=['VOTES'])\n",
    "\n",
    "house_state.loc[house_state.PARTY == \"R/W\", 'PARTY'] = \"R\"\n",
    "\n",
    "house_state = state_csv_save(house_state)\n",
    "\n",
    "print(house_state.PARTY.unique())\n",
    "#house_state.head(1000)"
   ]
  },
  {
   "cell_type": "markdown",
   "metadata": {},
   "source": [
    "### Delaware"
   ]
  },
  {
   "cell_type": "code",
   "execution_count": 16,
   "metadata": {},
   "outputs": [
    {
     "name": "stdout",
     "output_type": "stream",
     "text": [
      "['D' 'R' 'GRE' 'LIB' 'W']\n"
     ]
    }
   ],
   "source": [
    "state = \"DE\"\n",
    "\n",
    "house_state = house_US.loc[house_US.STATE_ABB==state].copy()\n",
    "house_state = house_state.rename(columns={'GENERAL_VOTES':'VOTES'}).dropna(subset=['VOTES'])\n",
    "\n",
    "house_state = state_csv_save(house_state)\n",
    "\n",
    "print(house_state.PARTY.unique())\n",
    "#house_state.head(1000)"
   ]
  },
  {
   "cell_type": "markdown",
   "metadata": {},
   "source": [
    "### District of Columbia"
   ]
  },
  {
   "cell_type": "code",
   "execution_count": 17,
   "metadata": {},
   "outputs": [
    {
     "name": "stdout",
     "output_type": "stream",
     "text": [
      "['D' 'LIB' 'DCG' 'W']\n"
     ]
    }
   ],
   "source": [
    "state = \"DC\"\n",
    "\n",
    "house_state = house_US.loc[house_US.STATE_ABB==state].copy()\n",
    "house_state = house_state.rename(columns={'GENERAL_VOTES':'VOTES'}).dropna(subset=['VOTES'])\n",
    "\n",
    "house_state.loc[house_state.PARTY == \"W(D)\", 'PARTY'] = \"D\"\n",
    "house_state.loc[house_state.PARTY == \"W(DCG)\", 'PARTY'] = \"DCG\"\n",
    "house_state.loc[house_state.PARTY == \"W(R)\", 'PARTY'] = \"R\"\n",
    "\n",
    "house_state = state_csv_save(house_state)\n",
    "\n",
    "print(house_state.PARTY.unique())\n",
    "#house_state.head(1000)"
   ]
  },
  {
   "cell_type": "markdown",
   "metadata": {},
   "source": [
    "### Florida"
   ]
  },
  {
   "cell_type": "code",
   "execution_count": 18,
   "metadata": {},
   "outputs": [
    {
     "name": "stdout",
     "output_type": "stream",
     "text": [
      "['R' 'D' 'LBF' 'W' 'NPA']\n"
     ]
    }
   ],
   "source": [
    "state = \"FL\"\n",
    "\n",
    "house_state = house_US.loc[house_US.STATE_ABB==state].copy()\n",
    "house_state = house_state.dropna(subset=['PARTY'])\n",
    "\n",
    "#In FL_24 one D candidate ran un-opposed. Give that candidate average vote for all candidates in all FL districts\n",
    "all_general_votes = house_state.loc[:,\"GENERAL_VOTES\"]\n",
    "all_general_votes = all_general_votes[(all_general_votes != np.nan) & (all_general_votes != 'Unopposed')]\n",
    "mean_general_vote = int(np.mean(all_general_votes))\n",
    "house_state.loc[house_state.GENERAL_VOTES == \"Unopposed\", 'GENERAL_VOTES'] = mean_general_vote\n",
    "\n",
    "house_state = house_state.rename(columns={'GENERAL_VOTES':'VOTES'}).dropna(subset=['VOTES'])\n",
    "\n",
    "house_state = state_csv_save(house_state)\n",
    "\n",
    "print(house_state.PARTY.unique())\n",
    "\n",
    "#house_state.head(1000)"
   ]
  },
  {
   "cell_type": "markdown",
   "metadata": {},
   "source": [
    "### Georgia"
   ]
  },
  {
   "cell_type": "code",
   "execution_count": 19,
   "metadata": {},
   "outputs": [
    {
     "name": "stdout",
     "output_type": "stream",
     "text": [
      "['R' 'W' 'D']\n"
     ]
    }
   ],
   "source": [
    "state = \"GA\"\n",
    "\n",
    "house_state = house_US.loc[house_US.STATE_ABB==state].copy()\n",
    "house_state = house_state.dropna(subset=['PARTY'])\n",
    "\n",
    "house_state = house_state.rename(columns={'GENERAL_VOTES':'VOTES'}).dropna(subset=['VOTES'])\n",
    "\n",
    "house_state.loc[house_state.D_ID == \"GA_03\", 'RUNOFF_VOTES'] = np.nan\n",
    "\n",
    "house_state = state_csv_save(house_state)\n",
    "\n",
    "print(house_state.PARTY.unique())\n",
    "#house_state.head(1000)"
   ]
  },
  {
   "cell_type": "markdown",
   "metadata": {},
   "source": [
    "### Hawaii\n",
    "\n",
    "District 1 had two elections has the incumbent representative had deceased. The \"Unexpired term\" was the election for the reminder of the deceeased representatives term. The \"Full term\" Election is for the next term. See more [here](https://en.wikipedia.org/wiki/2016_Hawaii%27s_1st_congressional_district_special_election)."
   ]
  },
  {
   "cell_type": "code",
   "execution_count": 20,
   "metadata": {},
   "outputs": [
    {
     "name": "stdout",
     "output_type": "stream",
     "text": [
      "['D' 'R' 'LIB' 'N']\n"
     ]
    }
   ],
   "source": [
    "state = \"HI\"\n",
    "\n",
    "house_state = house_US.loc[house_US.STATE_ABB==state].copy()\n",
    "house_state = house_state.dropna(subset=['PARTY'])\n",
    "\n",
    "house_state = house_state[house_state.D != \"01 - UNEXPIRED TERM\"]\n",
    "\n",
    "house_state.loc[house_state.D == \"01 - FULL TERM\", 'D_ID'] = \"HI_01\"\n",
    "house_state.loc[house_state.D == \"01 - FULL TERM\", 'D'] = \"01\"\n",
    "\n",
    "house_state = house_state.rename(columns={'GENERAL_VOTES':'VOTES'}).dropna(subset=['VOTES'])\n",
    "\n",
    "house_state = state_csv_save(house_state)\n",
    "\n",
    "print(house_state.PARTY.unique())\n",
    "#house_state.head(1000)"
   ]
  },
  {
   "cell_type": "markdown",
   "metadata": {},
   "source": [
    "### Idaho"
   ]
  },
  {
   "cell_type": "code",
   "execution_count": 21,
   "metadata": {},
   "outputs": [
    {
     "name": "stdout",
     "output_type": "stream",
     "text": [
      "['R' 'D' 'W' 'CON']\n"
     ]
    }
   ],
   "source": [
    "state = \"ID\"\n",
    "\n",
    "house_state = house_US.loc[house_US.STATE_ABB==state].copy()\n",
    "house_state = house_state.dropna(subset=['PARTY'])\n",
    "\n",
    "house_state = house_state.rename(columns={'GENERAL_VOTES':'VOTES'}).dropna(subset=['VOTES'])\n",
    "\n",
    "house_state = state_csv_save(house_state)\n",
    "\n",
    "print(house_state.PARTY.unique())\n",
    "#house_state.head(1000)"
   ]
  },
  {
   "cell_type": "markdown",
   "metadata": {},
   "source": [
    "## Illinois"
   ]
  },
  {
   "cell_type": "code",
   "execution_count": 22,
   "metadata": {},
   "outputs": [
    {
     "name": "stdout",
     "output_type": "stream",
     "text": [
      "['D' 'R' 'W' 'GRE']\n"
     ]
    }
   ],
   "source": [
    "state = \"IL\"\n",
    "\n",
    "house_state = house_US.loc[house_US.STATE_ABB==state].copy()\n",
    "house_state = house_state.dropna(subset=['PARTY'])\n",
    "\n",
    "house_state = house_state.rename(columns={'GENERAL_VOTES':'VOTES'}).dropna(subset=['VOTES'])\n",
    "\n",
    "house_state.loc[house_state.PARTY == \"W(D)\", 'PARTY'] = \"D\"\n",
    "house_state.loc[house_state.PARTY == \"W(R)\", 'PARTY'] = \"R\"\n",
    "\n",
    "#house_state = state_csv_save(house_state)\n",
    "\n",
    "print(house_state.PARTY.unique())\n",
    "#house_state.head(1000)"
   ]
  },
  {
   "cell_type": "markdown",
   "metadata": {},
   "source": [
    "### Indiana"
   ]
  },
  {
   "cell_type": "code",
   "execution_count": 23,
   "metadata": {},
   "outputs": [
    {
     "name": "stdout",
     "output_type": "stream",
     "text": [
      "['D' 'LIB' 'W' 'R']\n"
     ]
    }
   ],
   "source": [
    "state = \"IN\"\n",
    "\n",
    "house_state = house_US.loc[house_US.STATE_ABB==state].copy()\n",
    "house_state = house_state.dropna(subset=['PARTY'])\n",
    "\n",
    "house_state = house_state.rename(columns={'GENERAL_VOTES':'VOTES'}).dropna(subset=['VOTES'])\n",
    "\n",
    "house_state = state_csv_save(house_state)\n",
    "\n",
    "print(house_state.PARTY.unique())\n",
    "#house_state.head(1000)"
   ]
  },
  {
   "cell_type": "markdown",
   "metadata": {},
   "source": [
    "### Iowa"
   ]
  },
  {
   "cell_type": "code",
   "execution_count": 24,
   "metadata": {},
   "outputs": [
    {
     "name": "stdout",
     "output_type": "stream",
     "text": [
      "['R' 'D' 'W' 'LIB' 'NNE']\n"
     ]
    }
   ],
   "source": [
    "state = \"IA\"\n",
    "\n",
    "house_state = house_US.loc[house_US.STATE_ABB==state].copy()\n",
    "house_state = house_state.dropna(subset=['PARTY'])\n",
    "\n",
    "house_state = house_state.rename(columns={'GENERAL_VOTES':'VOTES'}).dropna(subset=['VOTES'])\n",
    "\n",
    "house_state.loc[house_state.PARTY == \"W(D)\", 'PARTY'] = \"D\"\n",
    "house_state.loc[house_state.PARTY == \"W(R)\", 'PARTY'] = \"R\"\n",
    "\n",
    "house_state = state_csv_save(house_state)\n",
    "\n",
    "print(house_state.PARTY.unique())\n",
    "#house_state.head(1000)"
   ]
  },
  {
   "cell_type": "markdown",
   "metadata": {},
   "source": [
    "### Kansas"
   ]
  },
  {
   "cell_type": "code",
   "execution_count": 25,
   "metadata": {},
   "outputs": [
    {
     "name": "stdout",
     "output_type": "stream",
     "text": [
      "['R' 'IND' 'LIB' 'D']\n"
     ]
    }
   ],
   "source": [
    "state = \"KS\"\n",
    "\n",
    "house_state = house_US.loc[house_US.STATE_ABB==state].copy()\n",
    "house_state = house_state.dropna(subset=['PARTY'])\n",
    "\n",
    "house_state = house_state.rename(columns={'GENERAL_VOTES':'VOTES'}).dropna(subset=['VOTES'])\n",
    "\n",
    "house_state.loc[house_state.PARTY == \"R/W\", 'PARTY'] = \"R\"\n",
    "\n",
    "house_state = state_csv_save(house_state)\n",
    "\n",
    "print(house_state.PARTY.unique())\n",
    "#house_state.head(1000)"
   ]
  },
  {
   "cell_type": "markdown",
   "metadata": {},
   "source": [
    "### Kentucky\n",
    "https://en.wikipedia.org/wiki/2016_United_States_House_of_Representatives_elections_in_Kentucky#Special_election"
   ]
  },
  {
   "cell_type": "code",
   "execution_count": 26,
   "metadata": {},
   "outputs": [
    {
     "name": "stdout",
     "output_type": "stream",
     "text": [
      "['R' 'D' 'W']\n"
     ]
    }
   ],
   "source": [
    "state = \"KY\"\n",
    "\n",
    "house_state = house_US.loc[house_US.STATE_ABB==state].copy()\n",
    "house_state = house_state.dropna(subset=['PARTY'])\n",
    "\n",
    "house_state = house_state.rename(columns={'GENERAL_VOTES':'VOTES'}).dropna(subset=['VOTES'])\n",
    "\n",
    "house_state = house_state[house_state.D != \"01 - UNEXPIRED TERM\"]\n",
    "\n",
    "house_state.loc[house_state.D == \"01 - FULL TERM\", 'D_ID'] = \"KY_01\"\n",
    "house_state.loc[house_state.D == \"01 - FULL TERM\", 'D'] = \"01\"\n",
    "\n",
    "house_state = state_csv_save(house_state)\n",
    "\n",
    "print(house_state.PARTY.unique())\n",
    "#house_state.head(1000)"
   ]
  },
  {
   "cell_type": "markdown",
   "metadata": {},
   "source": [
    "### Luisiana"
   ]
  },
  {
   "cell_type": "code",
   "execution_count": 27,
   "metadata": {},
   "outputs": [
    {
     "name": "stdout",
     "output_type": "stream",
     "text": [
      "['R' 'D' 'LIB' 'GRE' 'NPA' 'OTH']\n"
     ]
    }
   ],
   "source": [
    "state = \"LA\"\n",
    "\n",
    "house_state = house_US.loc[house_US.STATE_ABB==state].copy()\n",
    "house_state = house_state.dropna(subset=['PARTY'])\n",
    "\n",
    "house_state = house_state.rename(columns={'GENERAL_VOTES':'VOTES'}).dropna(subset=['VOTES'])\n",
    "\n",
    "house_state['RUNOFF_VOTES'] = house_state['RUNOFF_VOTES_LA']\n",
    "\n",
    "house_state = state_csv_save(house_state)\n",
    "\n",
    "print(house_state.PARTY.unique())\n",
    "#house_state.head(1000)"
   ]
  },
  {
   "cell_type": "markdown",
   "metadata": {},
   "source": [
    "### Maine"
   ]
  },
  {
   "cell_type": "code",
   "execution_count": 28,
   "metadata": {},
   "outputs": [
    {
     "name": "stdout",
     "output_type": "stream",
     "text": [
      "['D' 'R' 'LIB' 'IND']\n"
     ]
    }
   ],
   "source": [
    "state = \"ME\"\n",
    "\n",
    "house_state = house_US.loc[house_US.STATE_ABB==state].copy()\n",
    "house_state = house_state.dropna(subset=['PARTY'])\n",
    "\n",
    "house_state = house_state.rename(columns={'GENERAL_VOTES':'VOTES'}).dropna(subset=['VOTES'])\n",
    "\n",
    "house_state.loc[house_state.PARTY == \"W(LIB)\", 'PARTY'] = \"LIB\"\n",
    "house_state.loc[house_state.PARTY == \"W(IND)\", 'PARTY'] = \"IND\"\n",
    "\n",
    "house_state = state_csv_save(house_state)\n",
    "\n",
    "print(house_state.PARTY.unique())\n",
    "#house_state.head(1000)"
   ]
  },
  {
   "cell_type": "markdown",
   "metadata": {},
   "source": [
    "### Maryland"
   ]
  },
  {
   "cell_type": "code",
   "execution_count": 29,
   "metadata": {},
   "outputs": [
    {
     "name": "stdout",
     "output_type": "stream",
     "text": [
      "['R' 'D' 'LIB' 'W' 'GRE']\n"
     ]
    }
   ],
   "source": [
    "state = \"MD\"\n",
    "\n",
    "house_state = house_US.loc[house_US.STATE_ABB==state].copy()\n",
    "house_state = house_state.dropna(subset=['PARTY'])\n",
    "\n",
    "house_state = house_state.rename(columns={'GENERAL_VOTES':'VOTES'}).dropna(subset=['VOTES'])\n",
    "\n",
    "house_state = state_csv_save(house_state)\n",
    "\n",
    "print(house_state.PARTY.unique())\n",
    "#house_state.head(1000)"
   ]
  },
  {
   "cell_type": "markdown",
   "metadata": {},
   "source": [
    "### Massachusetts"
   ]
  },
  {
   "cell_type": "code",
   "execution_count": 30,
   "metadata": {},
   "outputs": [
    {
     "name": "stdout",
     "output_type": "stream",
     "text": [
      "['D' 'IND' 'LIB' 'W' 'R' 'U']\n"
     ]
    }
   ],
   "source": [
    "state = \"MA\"\n",
    "\n",
    "house_state = house_US.loc[house_US.STATE_ABB==state].copy()\n",
    "house_state = house_state.dropna(subset=['PARTY'])\n",
    "\n",
    "house_state = house_state.rename(columns={'GENERAL_VOTES':'VOTES'}).dropna(subset=['VOTES'])\n",
    "\n",
    "house_state.loc[house_state.PARTY == \"W(D)\", 'PARTY'] = \"D\"\n",
    "house_state.loc[house_state.PARTY == \"W(R)\", 'PARTY'] = \"R\"\n",
    "\n",
    "house_state = state_csv_save(house_state)\n",
    "\n",
    "print(house_state.PARTY.unique())\n",
    "#house_state.head(1000)"
   ]
  },
  {
   "cell_type": "markdown",
   "metadata": {},
   "source": [
    "### Michigan`"
   ]
  },
  {
   "cell_type": "code",
   "execution_count": 31,
   "metadata": {},
   "outputs": [
    {
     "name": "stdout",
     "output_type": "stream",
     "text": [
      "['R' 'D' 'LIB' 'GRE' 'UST' 'W' 'NLP' 'NPA' 'WC']\n"
     ]
    }
   ],
   "source": [
    "state = \"MI\"\n",
    "\n",
    "house_state = house_US.loc[house_US.STATE_ABB==state].copy()\n",
    "house_state = house_state.dropna(subset=['PARTY'])\n",
    "\n",
    "house_state = house_state.rename(columns={'GENERAL_VOTES':'VOTES'}).dropna(subset=['VOTES'])\n",
    "\n",
    "house_state.loc[house_state.PARTY == \"W(D)/D\", 'PARTY'] = \"D\"\n",
    "\n",
    "house_state = state_csv_save(house_state)\n",
    "\n",
    "print(house_state.PARTY.unique())\n",
    "#house_state.head(1000)"
   ]
  },
  {
   "cell_type": "markdown",
   "metadata": {},
   "source": [
    "### Minnesota"
   ]
  },
  {
   "cell_type": "code",
   "execution_count": 32,
   "metadata": {},
   "outputs": [
    {
     "name": "stdout",
     "output_type": "stream",
     "text": [
      "['DFL' 'R' 'W' 'IDP' 'LMN']\n"
     ]
    }
   ],
   "source": [
    "state = \"MN\"\n",
    "\n",
    "house_state = house_US.loc[house_US.STATE_ABB==state].copy()\n",
    "house_state = house_state.dropna(subset=['PARTY'])\n",
    "\n",
    "house_state = house_state.rename(columns={'GENERAL_VOTES':'VOTES'}).dropna(subset=['VOTES'])\n",
    "\n",
    "house_state = state_csv_save(house_state)\n",
    "\n",
    "print(house_state.PARTY.unique())\n",
    "#house_state.head(1000)"
   ]
  },
  {
   "cell_type": "markdown",
   "metadata": {},
   "source": [
    "### Mississippi"
   ]
  },
  {
   "cell_type": "code",
   "execution_count": 33,
   "metadata": {},
   "outputs": [
    {
     "name": "stdout",
     "output_type": "stream",
     "text": [
      "['R' 'D' 'LIB' 'REF' 'IND' 'VPA']\n"
     ]
    }
   ],
   "source": [
    "state = \"MS\"\n",
    "\n",
    "house_state = house_US.loc[house_US.STATE_ABB==state].copy()\n",
    "house_state = house_state.dropna(subset=['PARTY'])\n",
    "\n",
    "house_state = house_state.rename(columns={'GENERAL_VOTES':'VOTES'}).dropna(subset=['VOTES'])\n",
    "\n",
    "house_state = state_csv_save(house_state)\n",
    "\n",
    "print(house_state.PARTY.unique())\n",
    "\n",
    "#house_state.head(1000)"
   ]
  },
  {
   "cell_type": "markdown",
   "metadata": {},
   "source": [
    "### Missouri"
   ]
  },
  {
   "cell_type": "code",
   "execution_count": 34,
   "metadata": {},
   "outputs": [
    {
     "name": "stdout",
     "output_type": "stream",
     "text": [
      "['D' 'R' 'LIB' 'GRE' 'CON' 'W']\n"
     ]
    }
   ],
   "source": [
    "state = \"MO\"\n",
    "\n",
    "house_state = house_US.loc[house_US.STATE_ABB==state].copy()\n",
    "house_state = house_state.dropna(subset=['PARTY'])\n",
    "\n",
    "house_state = house_state.rename(columns={'GENERAL_VOTES':'VOTES'}).dropna(subset=['VOTES'])\n",
    "\n",
    "house_state = state_csv_save(house_state)\n",
    "\n",
    "print(house_state.PARTY.unique())\n",
    "#house_state.head(1000)"
   ]
  },
  {
   "cell_type": "markdown",
   "metadata": {},
   "source": [
    "### Montana"
   ]
  },
  {
   "cell_type": "code",
   "execution_count": 35,
   "metadata": {},
   "outputs": [
    {
     "name": "stdout",
     "output_type": "stream",
     "text": [
      "['R' 'D' 'LIB']\n"
     ]
    }
   ],
   "source": [
    "state = \"MT\"\n",
    "\n",
    "house_state = house_US.loc[house_US.STATE_ABB==state].copy()\n",
    "house_state = house_state.dropna(subset=['PARTY'])\n",
    "\n",
    "house_state = house_state.rename(columns={'GENERAL_VOTES':'VOTES'}).dropna(subset=['VOTES'])\n",
    "\n",
    "house_state.loc[house_state.PARTY == \"W(R)\", 'PARTY'] = \"R\"\n",
    "\n",
    "house_state = state_csv_save(house_state)\n",
    "\n",
    "print(house_state.PARTY.unique())\n",
    "#house_state.head(1000)"
   ]
  },
  {
   "cell_type": "markdown",
   "metadata": {},
   "source": [
    "### Nebraska"
   ]
  },
  {
   "cell_type": "code",
   "execution_count": 36,
   "metadata": {},
   "outputs": [
    {
     "name": "stdout",
     "output_type": "stream",
     "text": [
      "['R' 'D' 'LIB']\n"
     ]
    }
   ],
   "source": [
    "state = \"NE\"\n",
    "\n",
    "house_state = house_US.loc[house_US.STATE_ABB==state].copy()\n",
    "house_state = house_state.dropna(subset=['PARTY'])\n",
    "\n",
    "house_state = house_state.rename(columns={'GENERAL_VOTES':'VOTES'}).dropna(subset=['VOTES'])\n",
    "\n",
    "house_state = state_csv_save(house_state)\n",
    "\n",
    "print(house_state.PARTY.unique())\n",
    "#house_state.head(1000)"
   ]
  },
  {
   "cell_type": "markdown",
   "metadata": {},
   "source": [
    "### Nevada"
   ]
  },
  {
   "cell_type": "code",
   "execution_count": 37,
   "metadata": {},
   "outputs": [
    {
     "name": "stdout",
     "output_type": "stream",
     "text": [
      "['D' 'R' 'NPY' 'IAP' 'LIB']\n"
     ]
    }
   ],
   "source": [
    "state = \"NV\"\n",
    "\n",
    "house_state = house_US.loc[house_US.STATE_ABB==state].copy()\n",
    "house_state = house_state.dropna(subset=['PARTY'])\n",
    "\n",
    "house_state = house_state.rename(columns={'GENERAL_VOTES':'VOTES'}).dropna(subset=['VOTES'])\n",
    "\n",
    "house_state = state_csv_save(house_state)\n",
    "\n",
    "print(house_state.PARTY.unique())\n",
    "#house_state.head(1000)"
   ]
  },
  {
   "cell_type": "markdown",
   "metadata": {},
   "source": [
    "### New Hampshire"
   ]
  },
  {
   "cell_type": "code",
   "execution_count": 38,
   "metadata": {},
   "outputs": [
    {
     "name": "stdout",
     "output_type": "stream",
     "text": [
      "['D' 'R' 'IND' 'LIB' 'W']\n"
     ]
    }
   ],
   "source": [
    "state = \"NH\"\n",
    "\n",
    "house_state = house_US.loc[house_US.STATE_ABB==state].copy()\n",
    "house_state = house_state.dropna(subset=['PARTY'])\n",
    "\n",
    "house_state = house_state.rename(columns={'GENERAL_VOTES':'VOTES'}).dropna(subset=['VOTES'])\n",
    "\n",
    "house_state.loc[house_state.PARTY == \"W(R)\", 'PARTY'] = \"R\"\n",
    "house_state.loc[house_state.PARTY == \"R/W\", 'PARTY'] = \"R\"\n",
    "house_state.loc[house_state.PARTY == \"W(D)\", 'PARTY'] = \"D\"\n",
    "\n",
    "house_state = state_csv_save(house_state)\n",
    "\n",
    "print(house_state.PARTY.unique())\n",
    "#house_state.head(1000)"
   ]
  },
  {
   "cell_type": "markdown",
   "metadata": {},
   "source": [
    "### New Jersey"
   ]
  },
  {
   "cell_type": "code",
   "execution_count": 39,
   "metadata": {},
   "outputs": [
    {
     "name": "stdout",
     "output_type": "stream",
     "text": [
      "['D' 'R' 'WDB' 'LIB' 'AO' 'MGW' 'RNN' 'PIP' 'FPR' 'CON' 'EG' 'GRE' 'WUA'\n",
      " 'NSA' 'WOP' 'NBP' 'FI' 'LMP' 'TED' 'WTP']\n"
     ]
    }
   ],
   "source": [
    "state = \"NJ\"\n",
    "\n",
    "house_state = house_US.loc[house_US.STATE_ABB==state].copy()\n",
    "house_state = house_state.dropna(subset=['PARTY'])\n",
    "\n",
    "house_state = house_state.rename(columns={'GENERAL_VOTES':'VOTES'}).dropna(subset=['VOTES'])\n",
    "\n",
    "house_state = state_csv_save(house_state)\n",
    "\n",
    "print(house_state.PARTY.unique())\n",
    "#house_state.head(1000)"
   ]
  },
  {
   "cell_type": "markdown",
   "metadata": {},
   "source": [
    "### New Mexico"
   ]
  },
  {
   "cell_type": "code",
   "execution_count": 40,
   "metadata": {},
   "outputs": [
    {
     "name": "stdout",
     "output_type": "stream",
     "text": [
      "['D' 'R' 'W']\n"
     ]
    }
   ],
   "source": [
    "state = \"NM\"\n",
    "\n",
    "house_state = house_US.loc[house_US.STATE_ABB==state].copy()\n",
    "house_state = house_state.dropna(subset=['PARTY'])\n",
    "\n",
    "house_state = house_state.rename(columns={'GENERAL_VOTES':'VOTES'}).dropna(subset=['VOTES'])\n",
    "\n",
    "house_state = state_csv_save(house_state)\n",
    "\n",
    "print(house_state.PARTY.unique())\n",
    "#house_state.head(1000)"
   ]
  },
  {
   "cell_type": "markdown",
   "metadata": {},
   "source": [
    "### New York"
   ]
  },
  {
   "cell_type": "code",
   "execution_count": 41,
   "metadata": {},
   "outputs": [
    {
     "name": "stdout",
     "output_type": "stream",
     "text": [
      "['R' 'CRV' 'REF' 'IDP' 'D' 'WEP' 'WF' 'W' 'GRE' 'BLM' 'HBP']\n"
     ]
    }
   ],
   "source": [
    "state = \"NY\"\n",
    "\n",
    "house_state = house_US.loc[house_US.STATE_ABB==state].copy()\n",
    "house_state = house_state.dropna(subset=['PARTY'])\n",
    "\n",
    "house_state = house_state.rename(columns={'GENERAL_VOTES':'VOTES'}).dropna(subset=['VOTES'])\n",
    "\n",
    "house_state.loc[house_state.PARTY == \"R/TRP\", 'PARTY'] = \"R\"\n",
    "\n",
    "house_state = state_csv_save(house_state)\n",
    "\n",
    "print(house_state.PARTY.unique())\n",
    "#house_state.head(1000)"
   ]
  },
  {
   "cell_type": "markdown",
   "metadata": {},
   "source": [
    "### North Carolina"
   ]
  },
  {
   "cell_type": "code",
   "execution_count": 42,
   "metadata": {},
   "outputs": [
    {
     "name": "stdout",
     "output_type": "stream",
     "text": [
      "['D' 'R' 'LIB']\n"
     ]
    }
   ],
   "source": [
    "state = \"NC\"\n",
    "\n",
    "house_state = house_US.loc[house_US.STATE_ABB==state].copy()\n",
    "house_state = house_state.dropna(subset=['PARTY'])\n",
    "\n",
    "house_state = house_state.rename(columns={'GENERAL_VOTES':'VOTES'}).dropna(subset=['VOTES'])\n",
    "\n",
    "house_state = state_csv_save(house_state)\n",
    "\n",
    "print(house_state.PARTY.unique())\n",
    "#house_state.head(1000)"
   ]
  },
  {
   "cell_type": "markdown",
   "metadata": {},
   "source": [
    "### North Dakota"
   ]
  },
  {
   "cell_type": "code",
   "execution_count": 43,
   "metadata": {},
   "outputs": [
    {
     "name": "stdout",
     "output_type": "stream",
     "text": [
      "['R' 'DNL' 'LIB' 'W']\n"
     ]
    }
   ],
   "source": [
    "state = \"ND\"\n",
    "\n",
    "house_state = house_US.loc[house_US.STATE_ABB==state].copy()\n",
    "house_state = house_state.dropna(subset=['PARTY'])\n",
    "\n",
    "house_state = house_state.rename(columns={'GENERAL_VOTES':'VOTES'}).dropna(subset=['VOTES'])\n",
    "\n",
    "house_state.loc[house_state.PARTY == \"W(R)\", 'PARTY'] = \"R\"\n",
    "house_state.loc[house_state.PARTY == \"W(DNL)\", 'PARTY'] = \"DNL\"\n",
    "house_state.loc[house_state.PARTY == \"W(LIB)\", 'PARTY'] = \"LIB\"\n",
    "\n",
    "house_state = state_csv_save(house_state)\n",
    "\n",
    "print(house_state.PARTY.unique())\n",
    "#house_state.head(1000)"
   ]
  },
  {
   "cell_type": "markdown",
   "metadata": {},
   "source": [
    "### Ohio"
   ]
  },
  {
   "cell_type": "code",
   "execution_count": 44,
   "metadata": {},
   "outputs": [
    {
     "name": "stdout",
     "output_type": "stream",
     "text": [
      "['R' 'D' 'W' 'N' 'GRE']\n"
     ]
    }
   ],
   "source": [
    "state = \"OH\"\n",
    "\n",
    "house_state = house_US.loc[house_US.STATE_ABB==state].copy()\n",
    "house_state = house_state.dropna(subset=['PARTY'])\n",
    "\n",
    "house_state = house_state.rename(columns={'GENERAL_VOTES':'VOTES'}).dropna(subset=['VOTES'])\n",
    "\n",
    "house_state = state_csv_save(house_state)\n",
    "\n",
    "print(house_state.PARTY.unique())\n",
    "#house_state.head(1000)"
   ]
  },
  {
   "cell_type": "markdown",
   "metadata": {},
   "source": [
    "### Oklahoma\n",
    "\n",
    "Oklahoma district 5 had a run-off in the Democratic Party's primary."
   ]
  },
  {
   "cell_type": "code",
   "execution_count": 45,
   "metadata": {},
   "outputs": [
    {
     "name": "stdout",
     "output_type": "stream",
     "text": [
      "['R' 'D' 'IND' 'LIB']\n"
     ]
    }
   ],
   "source": [
    "state = \"OK\"\n",
    "\n",
    "house_state = house_US.loc[house_US.STATE_ABB==state].copy()\n",
    "house_state = house_state.dropna(subset=['PARTY'])\n",
    "\n",
    "#In OK_01 one R candidate ran un-opposed. Give that candidate average vote for all candidates in all FL districts\n",
    "all_general_votes = house_state.loc[:,\"GENERAL_VOTES\"]\n",
    "all_general_votes = all_general_votes[(all_general_votes != np.nan) & (all_general_votes != 'Unopposed')]\n",
    "mean_general_vote = int(np.mean(all_general_votes))\n",
    "house_state.loc[house_state.GENERAL_VOTES == \"Unopposed\", 'GENERAL_VOTES'] = mean_general_vote\n",
    "\n",
    "house_state['RUNOFF_VOTES'] = np.nan\n",
    "\n",
    "house_state = house_state.rename(columns={'GENERAL_VOTES':'VOTES'}).dropna(subset=['VOTES'])\n",
    "\n",
    "house_state = state_csv_save(house_state)\n",
    "\n",
    "print(house_state.PARTY.unique())\n",
    "#house_state.head(1000)"
   ]
  },
  {
   "cell_type": "markdown",
   "metadata": {},
   "source": [
    "### Oregon"
   ]
  },
  {
   "cell_type": "code",
   "execution_count": 46,
   "metadata": {},
   "outputs": [
    {
     "name": "stdout",
     "output_type": "stream",
     "text": [
      "['D' 'R' 'LIB' 'W' 'PRO' 'PG']\n"
     ]
    }
   ],
   "source": [
    "state = \"OR\"\n",
    "\n",
    "house_state = house_US.loc[house_US.STATE_ABB==state].copy()\n",
    "house_state = house_state.dropna(subset=['PARTY'])\n",
    "\n",
    "house_state = house_state.rename(columns={'GENERAL_VOTES':'VOTES'}).dropna(subset=['VOTES'])\n",
    "\n",
    "house_state.loc[house_state.PARTY == \"D/IP\", 'PARTY'] = \"D\"\n",
    "house_state.loc[house_state.PARTY == \"D/PRO/WF/IP\", 'PARTY'] = \"D\"\n",
    "house_state.loc[house_state.PARTY == \"W(D)\", 'PARTY'] = \"D\"\n",
    "\n",
    "house_state.loc[house_state.PARTY == \"IP/R\", 'PARTY'] = \"R\"\n",
    "house_state.loc[house_state.PARTY == \"R/CON\", 'PARTY'] = \"R\"\n",
    "house_state.loc[house_state.PARTY == \"R/IP\", 'PARTY'] = \"R\"\n",
    "house_state.loc[house_state.PARTY == \"W(R)\", 'PARTY'] = \"R\"\n",
    "\n",
    "house_state.loc[house_state.PARTY == \"W(IP)\", 'PARTY'] = \"IP\"\n",
    "\n",
    "house_state = state_csv_save(house_state)\n",
    "\n",
    "print(house_state.PARTY.unique())\n",
    "#house_state.head(1000)"
   ]
  },
  {
   "cell_type": "markdown",
   "metadata": {},
   "source": [
    "### Pennsylvania\n",
    "\n",
    "Special election in district 2 https://en.wikipedia.org/wiki/2016_United_States_House_of_Representatives_elections_in_Pennsylvania#District_2"
   ]
  },
  {
   "cell_type": "code",
   "execution_count": 47,
   "metadata": {},
   "outputs": [
    {
     "name": "stdout",
     "output_type": "stream",
     "text": [
      "['D' 'R' 'W' 'LIB']\n"
     ]
    }
   ],
   "source": [
    "state = \"PA\"\n",
    "\n",
    "house_state = house_US.loc[house_US.STATE_ABB==state].copy()\n",
    "house_state = house_state.dropna(subset=['PARTY'])\n",
    "\n",
    "house_state = house_state[house_state.D != \"02 - UNEXPIRED TERM\"]\n",
    "\n",
    "house_state.loc[house_state.D == \"02 - FULL TERM\", 'D_ID'] = \"PA_02\"\n",
    "house_state.loc[house_state.D == \"02 - FULL TERM\", 'D'] = \"02\"\n",
    "\n",
    "house_state = house_state.rename(columns={'GENERAL_VOTES':'VOTES'}).dropna(subset=['VOTES'])\n",
    "\n",
    "house_state.loc[house_state.PARTY == \"W(D)/D\", 'PARTY'] = \"D\"\n",
    "house_state.loc[house_state.PARTY == \"W(D)\", 'PARTY'] = \"D\"\n",
    "house_state.loc[house_state.PARTY == \"W(D)/W\", 'PARTY'] = \"D\"\n",
    "\n",
    "house_state.loc[house_state.PARTY == \"W(R)/R\", 'PARTY'] = \"R\"\n",
    "house_state.loc[house_state.PARTY == \"W(R)\", 'PARTY'] = \"R\"\n",
    "\n",
    "house_state = state_csv_save(house_state)\n",
    "\n",
    "print(house_state.PARTY.unique())\n",
    "#house_state.head(1000)"
   ]
  },
  {
   "cell_type": "markdown",
   "metadata": {},
   "source": [
    "### Rhode Island"
   ]
  },
  {
   "cell_type": "code",
   "execution_count": 48,
   "metadata": {},
   "outputs": [
    {
     "name": "stdout",
     "output_type": "stream",
     "text": [
      "['D' 'R' 'W' 'IND']\n"
     ]
    }
   ],
   "source": [
    "state = \"RI\"\n",
    "\n",
    "house_state = house_US.loc[house_US.STATE_ABB==state].copy()\n",
    "house_state = house_state.dropna(subset=['PARTY'])\n",
    "\n",
    "house_state = house_state.rename(columns={'GENERAL_VOTES':'VOTES'}).dropna(subset=['VOTES'])\n",
    "\n",
    "house_state = state_csv_save(house_state)\n",
    "\n",
    "print(house_state.PARTY.unique())\n",
    "#house_state.head(1000)"
   ]
  },
  {
   "cell_type": "markdown",
   "metadata": {},
   "source": [
    "### South Carolina"
   ]
  },
  {
   "cell_type": "code",
   "execution_count": 49,
   "metadata": {},
   "outputs": [
    {
     "name": "stdout",
     "output_type": "stream",
     "text": [
      "['R' 'D' 'WF' 'GRE' 'AM' 'LIB' 'W' 'CON']\n"
     ]
    }
   ],
   "source": [
    "state = \"SC\"\n",
    "\n",
    "house_state = house_US.loc[house_US.STATE_ABB==state].copy()\n",
    "house_state = house_state.dropna(subset=['PARTY'])\n",
    "\n",
    "house_state = house_state.rename(columns={'GENERAL_VOTES':'VOTES'}).dropna(subset=['VOTES'])\n",
    "\n",
    "house_state = state_csv_save(house_state)\n",
    "\n",
    "print(house_state.PARTY.unique())\n",
    "#house_state.head(1000)"
   ]
  },
  {
   "cell_type": "markdown",
   "metadata": {},
   "source": [
    "### South Dakota"
   ]
  },
  {
   "cell_type": "code",
   "execution_count": 50,
   "metadata": {},
   "outputs": [
    {
     "name": "stdout",
     "output_type": "stream",
     "text": [
      "['R' 'D']\n"
     ]
    }
   ],
   "source": [
    "state = \"SD\"\n",
    "\n",
    "house_state = house_US.loc[house_US.STATE_ABB==state].copy()\n",
    "house_state = house_state.dropna(subset=['PARTY'])\n",
    "\n",
    "house_state = house_state.rename(columns={'GENERAL_VOTES':'VOTES'}).dropna(subset=['VOTES'])\n",
    "\n",
    "house_state = state_csv_save(house_state)\n",
    "\n",
    "print(house_state.PARTY.unique())\n",
    "#house_state.head(1000)"
   ]
  },
  {
   "cell_type": "markdown",
   "metadata": {},
   "source": [
    "### Tennesse"
   ]
  },
  {
   "cell_type": "code",
   "execution_count": 51,
   "metadata": {},
   "outputs": [
    {
     "name": "stdout",
     "output_type": "stream",
     "text": [
      "['R' 'D' 'IND' 'W']\n"
     ]
    }
   ],
   "source": [
    "state = \"TN\"\n",
    "\n",
    "house_state = house_US.loc[house_US.STATE_ABB==state].copy()\n",
    "house_state = house_state.dropna(subset=['PARTY'])\n",
    "\n",
    "house_state = house_state.rename(columns={'GENERAL_VOTES':'VOTES'}).dropna(subset=['VOTES'])\n",
    "\n",
    "house_state = state_csv_save(house_state)\n",
    "\n",
    "print(house_state.PARTY.unique())\n",
    "#house_state.head(1000)"
   ]
  },
  {
   "cell_type": "markdown",
   "metadata": {},
   "source": [
    "### Texas\n",
    "\n",
    "Runoff in primary District 15 R & D, District 18 R, District 19 R"
   ]
  },
  {
   "cell_type": "code",
   "execution_count": 52,
   "metadata": {},
   "outputs": [
    {
     "name": "stdout",
     "output_type": "stream",
     "text": [
      "['R' 'D' 'LIB' 'W' 'GRE']\n"
     ]
    }
   ],
   "source": [
    "state = \"TX\"\n",
    "\n",
    "house_state = house_US.loc[house_US.STATE_ABB==state].copy()\n",
    "house_state = house_state.dropna(subset=['PARTY'])\n",
    "\n",
    "house_state = house_state.rename(columns={'GENERAL_VOTES':'VOTES'}).dropna(subset=['VOTES'])\n",
    "\n",
    "house_state['RUNOFF_VOTES'] = np.nan\n",
    "\n",
    "house_state = state_csv_save(house_state)\n",
    "\n",
    "print(house_state.PARTY.unique())\n",
    "#house_state.head(1000)"
   ]
  },
  {
   "cell_type": "markdown",
   "metadata": {},
   "source": [
    "### Utah"
   ]
  },
  {
   "cell_type": "code",
   "execution_count": 53,
   "metadata": {},
   "outputs": [
    {
     "name": "stdout",
     "output_type": "stream",
     "text": [
      "['R' 'D' 'LIB' 'UN' 'CON']\n"
     ]
    }
   ],
   "source": [
    "state = \"UT\"\n",
    "\n",
    "house_state = house_US.loc[house_US.STATE_ABB==state].copy()\n",
    "house_state = house_state.dropna(subset=['PARTY'])\n",
    "\n",
    "house_state = house_state.rename(columns={'GENERAL_VOTES':'VOTES'}).dropna(subset=['VOTES'])\n",
    "\n",
    "house_state = state_csv_save(house_state)\n",
    "\n",
    "print(house_state.PARTY.unique())\n",
    "#house_state.head(1000)"
   ]
  },
  {
   "cell_type": "markdown",
   "metadata": {},
   "source": [
    "### Vermont"
   ]
  },
  {
   "cell_type": "code",
   "execution_count": 54,
   "metadata": {},
   "outputs": [
    {
     "name": "stdout",
     "output_type": "stream",
     "text": [
      "['D' 'LBU' 'W']\n"
     ]
    }
   ],
   "source": [
    "state = \"VT\"\n",
    "\n",
    "house_state = house_US.loc[house_US.STATE_ABB==state].copy()\n",
    "house_state = house_state.dropna(subset=['PARTY'])\n",
    "\n",
    "house_state = house_state.rename(columns={'GENERAL_VOTES':'VOTES'}).dropna(subset=['VOTES'])\n",
    "\n",
    "house_state.loc[house_state.PARTY == \"W(PRO)\", 'PARTY'] = \"PRO\"\n",
    "house_state.loc[house_state.PARTY == \"W(R)\", 'PARTY'] = \"R\"\n",
    "\n",
    "house_state.loc[house_state.PARTY == \"D/R\", 'PARTY'] = \"D\"\n",
    "house_state.loc[house_state.PARTY == \"W(D)\", 'PARTY'] = \"D\"\n",
    "\n",
    "house_state = state_csv_save(house_state)\n",
    "\n",
    "print(house_state.PARTY.unique())\n",
    "#house_state.head(1000)"
   ]
  },
  {
   "cell_type": "markdown",
   "metadata": {},
   "source": [
    "### Virginia"
   ]
  },
  {
   "cell_type": "code",
   "execution_count": 55,
   "metadata": {},
   "outputs": [
    {
     "name": "stdout",
     "output_type": "stream",
     "text": [
      "['R' 'D' 'IND' 'W']\n"
     ]
    }
   ],
   "source": [
    "state = \"VA\"\n",
    "\n",
    "house_state = house_US.loc[house_US.STATE_ABB==state].copy()\n",
    "house_state = house_state.dropna(subset=['PARTY'])\n",
    "\n",
    "house_state = house_state.rename(columns={'GENERAL_VOTES':'VOTES'}).dropna(subset=['VOTES'])\n",
    "\n",
    "house_state.loc[house_state.PARTY == \"W(D)\", 'PARTY'] = \"D\"\n",
    "house_state.loc[house_state.PARTY == \"W(R)\", 'PARTY'] = \"R\"\n",
    "\n",
    "house_state = state_csv_save(house_state)\n",
    "\n",
    "print(house_state.PARTY.unique())\n",
    "#house_state.head(1000)"
   ]
  },
  {
   "cell_type": "markdown",
   "metadata": {},
   "source": [
    "### Washington"
   ]
  },
  {
   "cell_type": "code",
   "execution_count": 56,
   "metadata": {},
   "outputs": [
    {
     "name": "stdout",
     "output_type": "stream",
     "text": [
      "['D' 'R']\n"
     ]
    }
   ],
   "source": [
    "state = \"WA\"\n",
    "\n",
    "house_state = house_US.loc[house_US.STATE_ABB==state].copy()\n",
    "house_state = house_state.dropna(subset=['PARTY'])\n",
    "\n",
    "house_state = house_state.rename(columns={'GENERAL_VOTES':'VOTES'}).dropna(subset=['VOTES'])\n",
    "\n",
    "house_state = state_csv_save(house_state)\n",
    "\n",
    "print(house_state.PARTY.unique())\n",
    "#house_state.head(1000)"
   ]
  },
  {
   "cell_type": "markdown",
   "metadata": {},
   "source": [
    "### West Virginia"
   ]
  },
  {
   "cell_type": "code",
   "execution_count": 57,
   "metadata": {},
   "outputs": [
    {
     "name": "stdout",
     "output_type": "stream",
     "text": [
      "['R' 'D' 'LIB']\n"
     ]
    }
   ],
   "source": [
    "state = \"WV\"\n",
    "\n",
    "house_state = house_US.loc[house_US.STATE_ABB==state].copy()\n",
    "house_state = house_state.dropna(subset=['PARTY'])\n",
    "\n",
    "house_state = house_state.rename(columns={'GENERAL_VOTES':'VOTES'}).dropna(subset=['VOTES'])\n",
    "\n",
    "house_state = state_csv_save(house_state)\n",
    "\n",
    "print(house_state.PARTY.unique())\n",
    "#house_state.head(1000)"
   ]
  },
  {
   "cell_type": "markdown",
   "metadata": {},
   "source": [
    "### Wisconsin"
   ]
  },
  {
   "cell_type": "code",
   "execution_count": 58,
   "metadata": {},
   "outputs": [
    {
     "name": "stdout",
     "output_type": "stream",
     "text": [
      "['R' 'D' 'TC' 'LIB' 'W' 'IND']\n"
     ]
    }
   ],
   "source": [
    "state = \"WI\"\n",
    "\n",
    "house_state = house_US.loc[house_US.STATE_ABB==state].copy()\n",
    "house_state = house_state.dropna(subset=['PARTY'])\n",
    "\n",
    "house_state = house_state.rename(columns={'GENERAL_VOTES':'VOTES'}).dropna(subset=['VOTES'])\n",
    "\n",
    "house_state.loc[house_state.PARTY == \"W(R)\", 'PARTY'] = \"R\"\n",
    "house_state.loc[house_state.PARTY == \"W(D)\", 'PARTY'] = \"D\"\n",
    "house_state.loc[house_state.PARTY == \"W(LIB)\", 'PARTY'] = \"LIB\"\n",
    "house_state.loc[house_state.PARTY == \"W(CON)\", 'PARTY'] = \"CON\"\n",
    "house_state.loc[house_state.PARTY == \"W(WG)\", 'PARTY'] = \"WG\"\n",
    "\n",
    "house_state = state_csv_save(house_state)\n",
    "\n",
    "print(house_state.PARTY.unique())\n",
    "#house_state.head(1000)"
   ]
  },
  {
   "cell_type": "markdown",
   "metadata": {},
   "source": [
    "### Wyoming"
   ]
  },
  {
   "cell_type": "code",
   "execution_count": 59,
   "metadata": {},
   "outputs": [
    {
     "name": "stdout",
     "output_type": "stream",
     "text": [
      "['R' 'D' 'CON' 'LIB' 'W']\n"
     ]
    }
   ],
   "source": [
    "state = \"WY\"\n",
    "\n",
    "house_state = house_US.loc[house_US.STATE_ABB==state].copy()\n",
    "house_state = house_state.dropna(subset=['PARTY'])\n",
    "\n",
    "house_state = house_state.rename(columns={'GENERAL_VOTES':'VOTES'}).dropna(subset=['VOTES'])\n",
    "\n",
    "house_state.loc[house_state.PARTY == \"W(R)\", 'PARTY'] = \"R\"\n",
    "house_state.loc[house_state.PARTY == \"W(D)\", 'PARTY'] = \"D\"\n",
    "house_state.loc[house_state.PARTY == \"W(LIB)\", 'PARTY'] = \"LIB\"\n",
    "house_state.loc[house_state.PARTY == \"W(CON)\", 'PARTY'] = \"CON\"\n",
    "\n",
    "house_state = state_csv_save(house_state)\n",
    "\n",
    "print(house_state.PARTY.unique())\n",
    "#house_state.head(1000)"
   ]
  },
  {
   "cell_type": "markdown",
   "metadata": {},
   "source": [
    "# Append all cleaned State files to one csv file"
   ]
  },
  {
   "cell_type": "code",
   "execution_count": 60,
   "metadata": {},
   "outputs": [
    {
     "data": {
      "text/html": [
       "<div>\n",
       "<style scoped>\n",
       "    .dataframe tbody tr th:only-of-type {\n",
       "        vertical-align: middle;\n",
       "    }\n",
       "\n",
       "    .dataframe tbody tr th {\n",
       "        vertical-align: top;\n",
       "    }\n",
       "\n",
       "    .dataframe thead th {\n",
       "        text-align: right;\n",
       "    }\n",
       "</style>\n",
       "<table border=\"1\" class=\"dataframe\">\n",
       "  <thead>\n",
       "    <tr style=\"text-align: right;\">\n",
       "      <th></th>\n",
       "      <th>STATE_ABB</th>\n",
       "      <th>STATE</th>\n",
       "      <th>D_ID</th>\n",
       "      <th>CANDIDATE_NAME</th>\n",
       "      <th>PARTY</th>\n",
       "      <th>VOTES</th>\n",
       "      <th>RUNOFF_VOTES</th>\n",
       "      <th>DISTRICT_VOTES</th>\n",
       "      <th>STATE_VOTES</th>\n",
       "    </tr>\n",
       "  </thead>\n",
       "  <tbody>\n",
       "    <tr>\n",
       "      <th>0</th>\n",
       "      <td>AK</td>\n",
       "      <td>Alaska</td>\n",
       "      <td>AK_00</td>\n",
       "      <td>Young, Don</td>\n",
       "      <td>R</td>\n",
       "      <td>155088</td>\n",
       "      <td>NaN</td>\n",
       "      <td>308198.0</td>\n",
       "      <td>308198</td>\n",
       "    </tr>\n",
       "    <tr>\n",
       "      <th>1</th>\n",
       "      <td>AK</td>\n",
       "      <td>Alaska</td>\n",
       "      <td>AK_00</td>\n",
       "      <td>Lindbeck, Steve</td>\n",
       "      <td>D</td>\n",
       "      <td>111019</td>\n",
       "      <td>NaN</td>\n",
       "      <td>308198.0</td>\n",
       "      <td>308198</td>\n",
       "    </tr>\n",
       "    <tr>\n",
       "      <th>2</th>\n",
       "      <td>AK</td>\n",
       "      <td>Alaska</td>\n",
       "      <td>AK_00</td>\n",
       "      <td>McDermott, Jim C.</td>\n",
       "      <td>LIB</td>\n",
       "      <td>31770</td>\n",
       "      <td>NaN</td>\n",
       "      <td>308198.0</td>\n",
       "      <td>308198</td>\n",
       "    </tr>\n",
       "    <tr>\n",
       "      <th>3</th>\n",
       "      <td>AK</td>\n",
       "      <td>Alaska</td>\n",
       "      <td>AK_00</td>\n",
       "      <td>Souphanavong, Bernie</td>\n",
       "      <td>NAF</td>\n",
       "      <td>9093</td>\n",
       "      <td>NaN</td>\n",
       "      <td>308198.0</td>\n",
       "      <td>308198</td>\n",
       "    </tr>\n",
       "    <tr>\n",
       "      <th>4</th>\n",
       "      <td>AK</td>\n",
       "      <td>Alaska</td>\n",
       "      <td>AK_00</td>\n",
       "      <td>Scattered</td>\n",
       "      <td>W</td>\n",
       "      <td>1228</td>\n",
       "      <td>NaN</td>\n",
       "      <td>308198.0</td>\n",
       "      <td>308198</td>\n",
       "    </tr>\n",
       "    <tr>\n",
       "      <th>5</th>\n",
       "      <td>AL</td>\n",
       "      <td>Alabama</td>\n",
       "      <td>AL_01</td>\n",
       "      <td>Byrne, Bradley</td>\n",
       "      <td>R</td>\n",
       "      <td>208083</td>\n",
       "      <td>NaN</td>\n",
       "      <td>215893.0</td>\n",
       "      <td>1889685</td>\n",
       "    </tr>\n",
       "    <tr>\n",
       "      <th>6</th>\n",
       "      <td>AL</td>\n",
       "      <td>Alabama</td>\n",
       "      <td>AL_01</td>\n",
       "      <td>Scattered</td>\n",
       "      <td>W</td>\n",
       "      <td>7810</td>\n",
       "      <td>NaN</td>\n",
       "      <td>215893.0</td>\n",
       "      <td>1889685</td>\n",
       "    </tr>\n",
       "    <tr>\n",
       "      <th>7</th>\n",
       "      <td>AL</td>\n",
       "      <td>Alabama</td>\n",
       "      <td>AL_02</td>\n",
       "      <td>Roby, Martha</td>\n",
       "      <td>R</td>\n",
       "      <td>134886</td>\n",
       "      <td>NaN</td>\n",
       "      <td>276584.0</td>\n",
       "      <td>1889685</td>\n",
       "    </tr>\n",
       "    <tr>\n",
       "      <th>8</th>\n",
       "      <td>AL</td>\n",
       "      <td>Alabama</td>\n",
       "      <td>AL_02</td>\n",
       "      <td>Mathis, Nathan</td>\n",
       "      <td>D</td>\n",
       "      <td>112089</td>\n",
       "      <td>NaN</td>\n",
       "      <td>276584.0</td>\n",
       "      <td>1889685</td>\n",
       "    </tr>\n",
       "    <tr>\n",
       "      <th>9</th>\n",
       "      <td>AL</td>\n",
       "      <td>Alabama</td>\n",
       "      <td>AL_02</td>\n",
       "      <td>Scattered</td>\n",
       "      <td>W</td>\n",
       "      <td>29609</td>\n",
       "      <td>NaN</td>\n",
       "      <td>276584.0</td>\n",
       "      <td>1889685</td>\n",
       "    </tr>\n",
       "    <tr>\n",
       "      <th>10</th>\n",
       "      <td>AL</td>\n",
       "      <td>Alabama</td>\n",
       "      <td>AL_03</td>\n",
       "      <td>Rogers, Mike</td>\n",
       "      <td>R</td>\n",
       "      <td>192164</td>\n",
       "      <td>NaN</td>\n",
       "      <td>287104.0</td>\n",
       "      <td>1889685</td>\n",
       "    </tr>\n",
       "    <tr>\n",
       "      <th>11</th>\n",
       "      <td>AL</td>\n",
       "      <td>Alabama</td>\n",
       "      <td>AL_03</td>\n",
       "      <td>Smith, Jesse</td>\n",
       "      <td>D</td>\n",
       "      <td>94549</td>\n",
       "      <td>NaN</td>\n",
       "      <td>287104.0</td>\n",
       "      <td>1889685</td>\n",
       "    </tr>\n",
       "    <tr>\n",
       "      <th>12</th>\n",
       "      <td>AL</td>\n",
       "      <td>Alabama</td>\n",
       "      <td>AL_03</td>\n",
       "      <td>Scattered</td>\n",
       "      <td>W</td>\n",
       "      <td>391</td>\n",
       "      <td>NaN</td>\n",
       "      <td>287104.0</td>\n",
       "      <td>1889685</td>\n",
       "    </tr>\n",
       "    <tr>\n",
       "      <th>13</th>\n",
       "      <td>AL</td>\n",
       "      <td>Alabama</td>\n",
       "      <td>AL_04</td>\n",
       "      <td>Aderholt, Robert</td>\n",
       "      <td>R</td>\n",
       "      <td>235925</td>\n",
       "      <td>NaN</td>\n",
       "      <td>239444.0</td>\n",
       "      <td>1889685</td>\n",
       "    </tr>\n",
       "    <tr>\n",
       "      <th>14</th>\n",
       "      <td>AL</td>\n",
       "      <td>Alabama</td>\n",
       "      <td>AL_04</td>\n",
       "      <td>Scattered</td>\n",
       "      <td>W</td>\n",
       "      <td>3519</td>\n",
       "      <td>NaN</td>\n",
       "      <td>239444.0</td>\n",
       "      <td>1889685</td>\n",
       "    </tr>\n",
       "    <tr>\n",
       "      <th>15</th>\n",
       "      <td>AL</td>\n",
       "      <td>Alabama</td>\n",
       "      <td>AL_05</td>\n",
       "      <td>Brooks, Mo</td>\n",
       "      <td>R</td>\n",
       "      <td>205647</td>\n",
       "      <td>NaN</td>\n",
       "      <td>308326.0</td>\n",
       "      <td>1889685</td>\n",
       "    </tr>\n",
       "    <tr>\n",
       "      <th>16</th>\n",
       "      <td>AL</td>\n",
       "      <td>Alabama</td>\n",
       "      <td>AL_05</td>\n",
       "      <td>Boyd, Will, Jr.</td>\n",
       "      <td>D</td>\n",
       "      <td>102234</td>\n",
       "      <td>NaN</td>\n",
       "      <td>308326.0</td>\n",
       "      <td>1889685</td>\n",
       "    </tr>\n",
       "    <tr>\n",
       "      <th>17</th>\n",
       "      <td>AL</td>\n",
       "      <td>Alabama</td>\n",
       "      <td>AL_05</td>\n",
       "      <td>Scattered</td>\n",
       "      <td>W</td>\n",
       "      <td>445</td>\n",
       "      <td>NaN</td>\n",
       "      <td>308326.0</td>\n",
       "      <td>1889685</td>\n",
       "    </tr>\n",
       "    <tr>\n",
       "      <th>18</th>\n",
       "      <td>AL</td>\n",
       "      <td>Alabama</td>\n",
       "      <td>AL_06</td>\n",
       "      <td>Palmer, Gary</td>\n",
       "      <td>R</td>\n",
       "      <td>245313</td>\n",
       "      <td>NaN</td>\n",
       "      <td>329306.0</td>\n",
       "      <td>1889685</td>\n",
       "    </tr>\n",
       "    <tr>\n",
       "      <th>19</th>\n",
       "      <td>AL</td>\n",
       "      <td>Alabama</td>\n",
       "      <td>AL_06</td>\n",
       "      <td>Putman, David J.</td>\n",
       "      <td>D</td>\n",
       "      <td>83709</td>\n",
       "      <td>NaN</td>\n",
       "      <td>329306.0</td>\n",
       "      <td>1889685</td>\n",
       "    </tr>\n",
       "    <tr>\n",
       "      <th>20</th>\n",
       "      <td>AL</td>\n",
       "      <td>Alabama</td>\n",
       "      <td>AL_06</td>\n",
       "      <td>Scattered</td>\n",
       "      <td>W</td>\n",
       "      <td>284</td>\n",
       "      <td>NaN</td>\n",
       "      <td>329306.0</td>\n",
       "      <td>1889685</td>\n",
       "    </tr>\n",
       "    <tr>\n",
       "      <th>21</th>\n",
       "      <td>AL</td>\n",
       "      <td>Alabama</td>\n",
       "      <td>AL_07</td>\n",
       "      <td>Sewell, Terri A.</td>\n",
       "      <td>D</td>\n",
       "      <td>229330</td>\n",
       "      <td>NaN</td>\n",
       "      <td>233028.0</td>\n",
       "      <td>1889685</td>\n",
       "    </tr>\n",
       "    <tr>\n",
       "      <th>22</th>\n",
       "      <td>AL</td>\n",
       "      <td>Alabama</td>\n",
       "      <td>AL_07</td>\n",
       "      <td>Scattered</td>\n",
       "      <td>W</td>\n",
       "      <td>3698</td>\n",
       "      <td>NaN</td>\n",
       "      <td>233028.0</td>\n",
       "      <td>1889685</td>\n",
       "    </tr>\n",
       "    <tr>\n",
       "      <th>23</th>\n",
       "      <td>AR</td>\n",
       "      <td>Arkansas</td>\n",
       "      <td>AR_01</td>\n",
       "      <td>Crawford, Rick</td>\n",
       "      <td>R</td>\n",
       "      <td>183866</td>\n",
       "      <td>NaN</td>\n",
       "      <td>241047.0</td>\n",
       "      <td>1068577</td>\n",
       "    </tr>\n",
       "    <tr>\n",
       "      <th>24</th>\n",
       "      <td>AR</td>\n",
       "      <td>Arkansas</td>\n",
       "      <td>AR_01</td>\n",
       "      <td>West, Mark</td>\n",
       "      <td>LIB</td>\n",
       "      <td>57181</td>\n",
       "      <td>NaN</td>\n",
       "      <td>241047.0</td>\n",
       "      <td>1068577</td>\n",
       "    </tr>\n",
       "  </tbody>\n",
       "</table>\n",
       "</div>"
      ],
      "text/plain": [
       "   STATE_ABB     STATE   D_ID        CANDIDATE_NAME PARTY   VOTES  \\\n",
       "0         AK    Alaska  AK_00            Young, Don     R  155088   \n",
       "1         AK    Alaska  AK_00       Lindbeck, Steve     D  111019   \n",
       "2         AK    Alaska  AK_00     McDermott, Jim C.   LIB   31770   \n",
       "3         AK    Alaska  AK_00  Souphanavong, Bernie   NAF    9093   \n",
       "4         AK    Alaska  AK_00             Scattered     W    1228   \n",
       "5         AL   Alabama  AL_01        Byrne, Bradley     R  208083   \n",
       "6         AL   Alabama  AL_01             Scattered     W    7810   \n",
       "7         AL   Alabama  AL_02          Roby, Martha     R  134886   \n",
       "8         AL   Alabama  AL_02       Mathis, Nathan      D  112089   \n",
       "9         AL   Alabama  AL_02             Scattered     W   29609   \n",
       "10        AL   Alabama  AL_03          Rogers, Mike     R  192164   \n",
       "11        AL   Alabama  AL_03          Smith, Jesse     D   94549   \n",
       "12        AL   Alabama  AL_03             Scattered     W     391   \n",
       "13        AL   Alabama  AL_04      Aderholt, Robert     R  235925   \n",
       "14        AL   Alabama  AL_04             Scattered     W    3519   \n",
       "15        AL   Alabama  AL_05            Brooks, Mo     R  205647   \n",
       "16        AL   Alabama  AL_05       Boyd, Will, Jr.     D  102234   \n",
       "17        AL   Alabama  AL_05             Scattered     W     445   \n",
       "18        AL   Alabama  AL_06          Palmer, Gary     R  245313   \n",
       "19        AL   Alabama  AL_06      Putman, David J.     D   83709   \n",
       "20        AL   Alabama  AL_06             Scattered     W     284   \n",
       "21        AL   Alabama  AL_07      Sewell, Terri A.     D  229330   \n",
       "22        AL   Alabama  AL_07             Scattered     W    3698   \n",
       "23        AR  Arkansas  AR_01       Crawford, Rick      R  183866   \n",
       "24        AR  Arkansas  AR_01           West, Mark    LIB   57181   \n",
       "\n",
       "    RUNOFF_VOTES  DISTRICT_VOTES  STATE_VOTES  \n",
       "0            NaN        308198.0       308198  \n",
       "1            NaN        308198.0       308198  \n",
       "2            NaN        308198.0       308198  \n",
       "3            NaN        308198.0       308198  \n",
       "4            NaN        308198.0       308198  \n",
       "5            NaN        215893.0      1889685  \n",
       "6            NaN        215893.0      1889685  \n",
       "7            NaN        276584.0      1889685  \n",
       "8            NaN        276584.0      1889685  \n",
       "9            NaN        276584.0      1889685  \n",
       "10           NaN        287104.0      1889685  \n",
       "11           NaN        287104.0      1889685  \n",
       "12           NaN        287104.0      1889685  \n",
       "13           NaN        239444.0      1889685  \n",
       "14           NaN        239444.0      1889685  \n",
       "15           NaN        308326.0      1889685  \n",
       "16           NaN        308326.0      1889685  \n",
       "17           NaN        308326.0      1889685  \n",
       "18           NaN        329306.0      1889685  \n",
       "19           NaN        329306.0      1889685  \n",
       "20           NaN        329306.0      1889685  \n",
       "21           NaN        233028.0      1889685  \n",
       "22           NaN        233028.0      1889685  \n",
       "23           NaN        241047.0      1068577  \n",
       "24           NaN        241047.0      1068577  "
      ]
     },
     "execution_count": 60,
     "metadata": {},
     "output_type": "execute_result"
    }
   ],
   "source": [
    "house_us_cleaned = pd.DataFrame()\n",
    "\n",
    "state_files = os.listdir('../by-state')\n",
    "for state_file in state_files:\n",
    "    house_state_cleaned = pd.read_csv('../by-state/' + state_file)\n",
    "    house_us_cleaned = house_us_cleaned.append(house_state_cleaned, ignore_index = True) \n",
    "\n",
    "house_us_cleaned.to_csv('../house-by-state-cleaned.csv', index=False)\n",
    "house_us_cleaned.head(25)"
   ]
  }
 ],
 "metadata": {
  "kernelspec": {
   "display_name": "Python 3",
   "language": "python",
   "name": "python3"
  },
  "language_info": {
   "codemirror_mode": {
    "name": "ipython",
    "version": 3
   },
   "file_extension": ".py",
   "mimetype": "text/x-python",
   "name": "python",
   "nbconvert_exporter": "python",
   "pygments_lexer": "ipython3",
   "version": "3.6.4"
  }
 },
 "nbformat": 4,
 "nbformat_minor": 2
}
